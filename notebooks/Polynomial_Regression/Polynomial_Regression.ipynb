{
 "cells": [
  {
   "cell_type": "markdown",
   "metadata": {},
   "source": [
    "# Polynomial Regression: From Linear to Non-Linear Relationships\n",
    "\n",
    "## 🎯 Learning Objectives\n",
    "In this notebook, we'll explore polynomial regression through a systematic approach:\n",
    "1. **Understand the concept**: Difference between linear and polynomial regression\n",
    "2. **Hands-on implementation**: From NumPy basics to Sklearn production code\n",
    "3. **Model evaluation**: Finding the optimal polynomial degree\n",
    "4. **Production considerations**: Best practices for real-world deployment\n",
    "\n",
    "## 📊 Dataset Overview\n",
    "We'll use the **Advertising dataset** with features:\n",
    "- **TV**: TV advertising budget\n",
    "- **Radio**: Radio advertising budget  \n",
    "- **Newspaper**: Newspaper advertising budget\n",
    "- **Target**: Sales (what we want to predict)\n",
    "\n",
    "## 🔍 Key Question We're Answering\n",
    "**What is the difference between Linear Regression and Polynomial Regression?**\n",
    "\n",
    "- **Linear Regression**: Fits a straight line to your data\n",
    "- **Polynomial Regression**: Fits a curved line to your data\n",
    "\n",
    "**Important Insight**: Polynomial Regression is still technically a form of linear regression. It works by first creating new, polynomial features from your original input variables, then applying linear regression to these transformed features.\n",
    "\n"
   ]
  },
  {
   "cell_type": "markdown",
   "metadata": {},
   "source": [
    "# Part 1: Foundation - Polynomial Regression with NumPy\n",
    "\n",
    "## 🎯 What We'll Learn\n",
    "- How to use `np.polyfit()` for polynomial regression\n",
    "- Difference between degree 1 (linear) and degree 3 (cubic) fits\n",
    "- Manual implementation of polynomial predictions\n",
    "- Visualization of different polynomial curves\n",
    "\n",
    "## 📚 Key Concepts\n",
    "- **np.polyfit()**: NumPy's polynomial fitting function\n",
    "- **Polynomial degree**: Controls complexity (1=linear, 2=quadratic, 3=cubic)\n",
    "- **Coefficients**: Numbers that define the shape and position of the curve\n",
    "- **Bias-Variance Tradeoff**: Balance between underfitting and overfitting"
   ]
  },
  {
   "cell_type": "code",
   "execution_count": 1,
   "metadata": {
    "application/vnd.databricks.v1+cell": {
     "cellMetadata": {
      "byteLimit": 2048000,
      "rowLimit": 10000
     },
     "inputWidgets": {},
     "nuid": "18fd3c7b-b5d5-4ef1-b7ec-780c77126c29",
     "showTitle": false,
     "title": ""
    }
   },
   "outputs": [],
   "source": [
    "# =============================================================================\n",
    "# PART 1: IMPORTS AND DATA LOADING\n",
    "# =============================================================================\n",
    "\n",
    "# Core libraries for data manipulation and numerical computing\n",
    "import pandas as pd\n",
    "import numpy as np\n",
    "\n",
    "# Visualization libraries\n",
    "import matplotlib.pyplot as plt\n",
    "import seaborn as sns\n",
    "\n",
    "# Set up plotting style for better visualizations\n",
    "plt.style.use('default')\n",
    "sns.set_palette(\"husl\")\n"
   ]
  },
  {
   "cell_type": "code",
   "execution_count": 2,
   "metadata": {
    "application/vnd.databricks.v1+cell": {
     "cellMetadata": {
      "byteLimit": 2048000,
      "rowLimit": 10000
     },
     "inputWidgets": {},
     "nuid": "58a4197e-da12-4c1d-b183-9ad6ddbde506",
     "showTitle": false,
     "title": ""
    }
   },
   "outputs": [],
   "source": [
    "# Load the advertising dataset\n",
    "# Contains TV, Radio, Newspaper advertising budgets and Sales results\n",
    "df = pd.read_csv('advertising.csv')"
   ]
  },
  {
   "cell_type": "code",
   "execution_count": 3,
   "metadata": {
    "application/vnd.databricks.v1+cell": {
     "cellMetadata": {
      "byteLimit": 2048000,
      "rowLimit": 10000
     },
     "inputWidgets": {},
     "nuid": "3a2b2843-ac0c-47ef-9286-66714cca737c",
     "showTitle": false,
     "title": ""
    }
   },
   "outputs": [
    {
     "name": "stdout",
     "output_type": "stream",
     "text": [
      "Dataset shape: (200, 4)\n",
      "\n",
      "Column names: ['TV', 'Radio', 'Newspaper', 'Sales']\n",
      "\n",
      "First 5 rows:\n"
     ]
    },
    {
     "data": {
      "text/html": [
       "<div>\n",
       "<style scoped>\n",
       "    .dataframe tbody tr th:only-of-type {\n",
       "        vertical-align: middle;\n",
       "    }\n",
       "\n",
       "    .dataframe tbody tr th {\n",
       "        vertical-align: top;\n",
       "    }\n",
       "\n",
       "    .dataframe thead th {\n",
       "        text-align: right;\n",
       "    }\n",
       "</style>\n",
       "<table border=\"1\" class=\"dataframe\">\n",
       "  <thead>\n",
       "    <tr style=\"text-align: right;\">\n",
       "      <th></th>\n",
       "      <th>TV</th>\n",
       "      <th>Radio</th>\n",
       "      <th>Newspaper</th>\n",
       "      <th>Sales</th>\n",
       "    </tr>\n",
       "  </thead>\n",
       "  <tbody>\n",
       "    <tr>\n",
       "      <th>0</th>\n",
       "      <td>230.1</td>\n",
       "      <td>37.8</td>\n",
       "      <td>69.2</td>\n",
       "      <td>22.1</td>\n",
       "    </tr>\n",
       "    <tr>\n",
       "      <th>1</th>\n",
       "      <td>44.5</td>\n",
       "      <td>39.3</td>\n",
       "      <td>45.1</td>\n",
       "      <td>10.4</td>\n",
       "    </tr>\n",
       "    <tr>\n",
       "      <th>2</th>\n",
       "      <td>17.2</td>\n",
       "      <td>45.9</td>\n",
       "      <td>69.3</td>\n",
       "      <td>12.0</td>\n",
       "    </tr>\n",
       "    <tr>\n",
       "      <th>3</th>\n",
       "      <td>151.5</td>\n",
       "      <td>41.3</td>\n",
       "      <td>58.5</td>\n",
       "      <td>16.5</td>\n",
       "    </tr>\n",
       "    <tr>\n",
       "      <th>4</th>\n",
       "      <td>180.8</td>\n",
       "      <td>10.8</td>\n",
       "      <td>58.4</td>\n",
       "      <td>17.9</td>\n",
       "    </tr>\n",
       "  </tbody>\n",
       "</table>\n",
       "</div>"
      ],
      "text/plain": [
       "      TV  Radio  Newspaper  Sales\n",
       "0  230.1   37.8       69.2   22.1\n",
       "1   44.5   39.3       45.1   10.4\n",
       "2   17.2   45.9       69.3   12.0\n",
       "3  151.5   41.3       58.5   16.5\n",
       "4  180.8   10.8       58.4   17.9"
      ]
     },
     "execution_count": 3,
     "metadata": {},
     "output_type": "execute_result"
    }
   ],
   "source": [
    "# Explore the dataset structure and first few rows\n",
    "print(\"Dataset shape:\", df.shape)\n",
    "print(\"\\nColumn names:\", df.columns.tolist())\n",
    "print(\"\\nFirst 5 rows:\")\n",
    "df.head()"
   ]
  },
  {
   "cell_type": "code",
   "execution_count": 4,
   "metadata": {
    "application/vnd.databricks.v1+cell": {
     "cellMetadata": {
      "byteLimit": 2048000,
      "rowLimit": 10000
     },
     "inputWidgets": {},
     "nuid": "8f5d7efc-1e35-4752-b286-f0361e8db2ea",
     "showTitle": false,
     "title": ""
    }
   },
   "outputs": [
    {
     "name": "stdout",
     "output_type": "stream",
     "text": [
      "Created 'Total_Spends' feature\n",
      "Total_Spends range: $11.7 - $433.6\n",
      "Sales range: $1.6 - $27.0\n"
     ]
    }
   ],
   "source": [
    "# =============================================================================\n",
    "# FEATURE ENGINEERING: Create Total Spending Feature\n",
    "# =============================================================================\n",
    "\n",
    "# Create a new feature representing total advertising spend across all channels\n",
    "# This gives us a single feature to demonstrate polynomial regression concepts\n",
    "df['Total_Spends'] = df['TV'] + df['Radio'] + df['Newspaper']\n",
    "\n",
    "print(f\"Created 'Total_Spends' feature\")\n",
    "print(f\"Total_Spends range: ${df['Total_Spends'].min():.1f} - ${df['Total_Spends'].max():.1f}\")\n",
    "print(f\"Sales range: ${df['Sales'].min():.1f} - ${df['Sales'].max():.1f}\")"
   ]
  },
  {
   "cell_type": "code",
   "execution_count": 5,
   "metadata": {
    "application/vnd.databricks.v1+cell": {
     "cellMetadata": {
      "byteLimit": 2048000,
      "rowLimit": 10000
     },
     "inputWidgets": {},
     "nuid": "113765fe-79a8-450c-b9f5-d299e57ea73e",
     "showTitle": false,
     "title": ""
    }
   },
   "outputs": [
    {
     "name": "stdout",
     "output_type": "stream",
     "text": [
      "Updated dataset with Total_Spends:\n"
     ]
    },
    {
     "data": {
      "text/html": [
       "<div>\n",
       "<style scoped>\n",
       "    .dataframe tbody tr th:only-of-type {\n",
       "        vertical-align: middle;\n",
       "    }\n",
       "\n",
       "    .dataframe tbody tr th {\n",
       "        vertical-align: top;\n",
       "    }\n",
       "\n",
       "    .dataframe thead th {\n",
       "        text-align: right;\n",
       "    }\n",
       "</style>\n",
       "<table border=\"1\" class=\"dataframe\">\n",
       "  <thead>\n",
       "    <tr style=\"text-align: right;\">\n",
       "      <th></th>\n",
       "      <th>TV</th>\n",
       "      <th>Radio</th>\n",
       "      <th>Newspaper</th>\n",
       "      <th>Sales</th>\n",
       "      <th>Total_Spends</th>\n",
       "    </tr>\n",
       "  </thead>\n",
       "  <tbody>\n",
       "    <tr>\n",
       "      <th>0</th>\n",
       "      <td>230.1</td>\n",
       "      <td>37.8</td>\n",
       "      <td>69.2</td>\n",
       "      <td>22.1</td>\n",
       "      <td>337.1</td>\n",
       "    </tr>\n",
       "    <tr>\n",
       "      <th>1</th>\n",
       "      <td>44.5</td>\n",
       "      <td>39.3</td>\n",
       "      <td>45.1</td>\n",
       "      <td>10.4</td>\n",
       "      <td>128.9</td>\n",
       "    </tr>\n",
       "    <tr>\n",
       "      <th>2</th>\n",
       "      <td>17.2</td>\n",
       "      <td>45.9</td>\n",
       "      <td>69.3</td>\n",
       "      <td>12.0</td>\n",
       "      <td>132.4</td>\n",
       "    </tr>\n",
       "    <tr>\n",
       "      <th>3</th>\n",
       "      <td>151.5</td>\n",
       "      <td>41.3</td>\n",
       "      <td>58.5</td>\n",
       "      <td>16.5</td>\n",
       "      <td>251.3</td>\n",
       "    </tr>\n",
       "    <tr>\n",
       "      <th>4</th>\n",
       "      <td>180.8</td>\n",
       "      <td>10.8</td>\n",
       "      <td>58.4</td>\n",
       "      <td>17.9</td>\n",
       "      <td>250.0</td>\n",
       "    </tr>\n",
       "  </tbody>\n",
       "</table>\n",
       "</div>"
      ],
      "text/plain": [
       "      TV  Radio  Newspaper  Sales  Total_Spends\n",
       "0  230.1   37.8       69.2   22.1         337.1\n",
       "1   44.5   39.3       45.1   10.4         128.9\n",
       "2   17.2   45.9       69.3   12.0         132.4\n",
       "3  151.5   41.3       58.5   16.5         251.3\n",
       "4  180.8   10.8       58.4   17.9         250.0"
      ]
     },
     "execution_count": 5,
     "metadata": {},
     "output_type": "execute_result"
    }
   ],
   "source": [
    "# Verify our new feature was created correctly\n",
    "print(\"Updated dataset with Total_Spends:\")\n",
    "df.head()"
   ]
  },
  {
   "cell_type": "code",
   "execution_count": 6,
   "metadata": {
    "application/vnd.databricks.v1+cell": {
     "cellMetadata": {
      "byteLimit": 2048000,
      "rowLimit": 10000
     },
     "inputWidgets": {},
     "nuid": "803c2807-c70e-4727-beb6-330076d703c9",
     "showTitle": false,
     "title": ""
    }
   },
   "outputs": [
    {
     "data": {
      "image/png": "[encoded data removed]",
      "text/plain": [
       "<Figure size 1000x600 with 1 Axes>"
      ]
     },
     "metadata": {},
     "output_type": "display_data"
    }
   ],
   "source": [
    "# =============================================================================\n",
    "# DATA VISUALIZATION: Understanding the Relationship\n",
    "# =============================================================================\n",
    "\n",
    "# Simple scatter plot to visualize the relationship between total spends and sales\n",
    "# This is the most basic way to see the relationship between two variables\n",
    "plt.figure(figsize=(10, 6))\n",
    "sns.scatterplot(data=df, x='Total_Spends', y='Sales', alpha=0.7)\n",
    "plt.title('Relationship Between Total Advertising Spend and Sales')\n",
    "plt.xlabel('Total Advertising Spend ($)')\n",
    "plt.ylabel('Sales ($)')\n",
    "plt.grid(True, alpha=0.3)\n",
    "plt.show()"
   ]
  },
  {
   "cell_type": "code",
   "execution_count": 7,
   "metadata": {
    "application/vnd.databricks.v1+cell": {
     "cellMetadata": {
      "byteLimit": 2048000,
      "rowLimit": 10000
     },
     "inputWidgets": {},
     "nuid": "1f61e68f-5e64-405b-9737-0e976d33e296",
     "showTitle": false,
     "title": ""
    }
   },
   "outputs": [
    {
     "data": {
      "image/png": "[encoded data removed]",
      "text/plain": [
       "<Figure size 1000x600 with 1 Axes>"
      ]
     },
     "metadata": {},
     "output_type": "display_data"
    }
   ],
   "source": [
    "# Enhanced visualization with linear regression line and confidence intervals\n",
    "# regplot automatically includes a linear regression line and its confidence interval\n",
    "plt.figure(figsize=(10, 6))\n",
    "sns.regplot(data=df, x='Total_Spends', y='Sales', scatter_kws={'alpha':0.7})\n",
    "plt.title('Linear Regression: Total Spend vs Sales with Confidence Interval')\n",
    "plt.xlabel('Total Advertising Spend ($)')\n",
    "plt.ylabel('Sales ($)')\n",
    "plt.grid(True, alpha=0.3)\n",
    "plt.show()\n",
    "\n",
    "# Observation: The relationship appears to have some curvature - \n",
    "# this suggests polynomial regression might capture the pattern better than linear regression"
   ]
  },
  {
   "cell_type": "code",
   "execution_count": 8,
   "metadata": {
    "application/vnd.databricks.v1+cell": {
     "cellMetadata": {
      "byteLimit": 2048000,
      "rowLimit": 10000
     },
     "inputWidgets": {},
     "nuid": "3c526e4d-dca8-49e2-9fcc-4e9ce108d043",
     "showTitle": false,
     "title": ""
    }
   },
   "outputs": [
    {
     "name": "stdout",
     "output_type": "stream",
     "text": [
      "Feature (x) shape: (200,)\n",
      "Target (y) shape: (200,)\n",
      "Sample x values: [337.1 128.9 132.4 251.3 250. ]\n",
      "Sample y values: [22.1 10.4 12.  16.5 17.9]\n"
     ]
    }
   ],
   "source": [
    "# =============================================================================\n",
    "# NUMPY POLYNOMIAL REGRESSION: Manual Implementation\n",
    "# =============================================================================\n",
    "\n",
    "# Define our variables for polynomial regression\n",
    "x = df['Total_Spends']  # Independent variable (features)\n",
    "y = df['Sales']         # Dependent variable (target)\n",
    "\n",
    "print(f\"Feature (x) shape: {x.shape}\")\n",
    "print(f\"Target (y) shape: {y.shape}\")\n",
    "print(f\"Sample x values: {x.head().values}\")\n",
    "print(f\"Sample y values: {y.head().values}\")"
   ]
  },
  {
   "cell_type": "markdown",
   "metadata": {
    "application/vnd.databricks.v1+cell": {
     "cellMetadata": {
      "byteLimit": 2048000,
      "rowLimit": 10000
     },
     "inputWidgets": {},
     "nuid": "fe6fc667-b8d1-4d0d-a57c-98d936663747",
     "showTitle": false,
     "title": ""
    }
   },
   "source": [
    "## 📚 Understanding np.polyfit()\n",
    "\n",
    "**What is np.polyfit()?**\n",
    "- **Name**: \"NumPy polynomial fit\" - fits a polynomial of specified degree to data\n",
    "- **Purpose**: Finds the best-fit polynomial coefficients for your data points\n",
    "- **Output**: Coefficients that define the polynomial equation\n",
    "\n",
    "**Key Parameters:**\n",
    "- **x**: Input data (independent variable, e.g., 'Total_Spends')\n",
    "- **y**: Output data (dependent variable, e.g., 'Sales')  \n",
    "- **deg**: Polynomial degree (most important parameter!)\n",
    "\n",
    "**Polynomial Degrees Explained:**\n",
    "- **deg=1**: Linear polynomial → `y = mx + c` (straight line)\n",
    "- **deg=2**: Quadratic polynomial → `y = ax² + bx + c` (parabola)\n",
    "- **deg=3**: Cubic polynomial → `y = ax³ + bx² + cx + d` (curve with up to 2 bends)\n",
    "\n",
    "**Example:** `np.polyfit(x, y, deg=1)` finds the slope (m) and intercept (c) of the best-fit straight line"
   ]
  },
  {
   "cell_type": "code",
   "execution_count": 9,
   "metadata": {
    "application/vnd.databricks.v1+cell": {
     "cellMetadata": {
      "byteLimit": 2048000,
      "rowLimit": 10000
     },
     "inputWidgets": {},
     "nuid": "4025f792-3028-4fd6-9807-a11b3f3fae00",
     "showTitle": false,
     "title": ""
    }
   },
   "outputs": [
    {
     "name": "stdout",
     "output_type": "stream",
     "text": [
      "Linear Regression Results:\n",
      "Slope (m): 0.0526\n",
      "Y-intercept (c): 4.5736\n",
      "Equation: y = 0.0526x + 4.5736\n",
      "\n",
      "Interpretation:\n",
      "- For every $1 increase in total spend, sales increase by $0.0526\n",
      "- Expected sales with $0 advertising spend: $4.5736\n"
     ]
    }
   ],
   "source": [
    "# =============================================================================\n",
    "# LINEAR REGRESSION (Degree 1) using NumPy\n",
    "# =============================================================================\n",
    "\n",
    "# Fit a linear polynomial (degree=1) to find the best-fit line: y = mx + c\n",
    "# Returns coefficients where m = slope, c = y-intercept\n",
    "m, c = np.polyfit(x, y, deg=1) \n",
    "\n",
    "print(\"Linear Regression Results:\")\n",
    "print(f\"Slope (m): {m:.4f}\")\n",
    "print(f\"Y-intercept (c): {c:.4f}\")\n",
    "print(f\"Equation: y = {m:.4f}x + {c:.4f}\")\n",
    "print(f\"\\nInterpretation:\")\n",
    "print(f\"- For every $1 increase in total spend, sales increase by ${m:.4f}\")\n",
    "print(f\"- Expected sales with $0 advertising spend: ${c:.4f}\")"
   ]
  },
  {
   "cell_type": "code",
   "execution_count": 10,
   "metadata": {
    "application/vnd.databricks.v1+cell": {
     "cellMetadata": {
      "byteLimit": 2048000,
      "rowLimit": 10000
     },
     "inputWidgets": {},
     "nuid": "4b0c7ce2-f04d-477a-bccb-21af8c5affdb",
     "showTitle": false,
     "title": ""
    }
   },
   "outputs": [
    {
     "name": "stdout",
     "output_type": "stream",
     "text": [
      "Prediction range: $0 to $500\n",
      "Number of prediction points: 100\n",
      "First few prediction points: [ 0.          5.05050505 10.1010101  15.15151515 20.2020202 ]\n"
     ]
    }
   ],
   "source": [
    "# Generate smooth range of values for prediction and visualization\n",
    "# Create 100 evenly spaced points from $0 to $500 total spend\n",
    "potential_spend = np.linspace(0, 500, 100)\n",
    "\n",
    "print(f\"Prediction range: ${potential_spend.min():.0f} to ${potential_spend.max():.0f}\")\n",
    "print(f\"Number of prediction points: {len(potential_spend)}\")\n",
    "print(f\"First few prediction points: {potential_spend[:5]}\")"
   ]
  },
  {
   "cell_type": "code",
   "execution_count": 11,
   "metadata": {
    "application/vnd.databricks.v1+cell": {
     "cellMetadata": {
      "byteLimit": 2048000,
      "rowLimit": 10000
     },
     "inputWidgets": {},
     "nuid": "7636ce58-a710-4bc9-be9a-d58af9ea6620",
     "showTitle": false,
     "title": ""
    }
   },
   "outputs": [
    {
     "name": "stdout",
     "output_type": "stream",
     "text": [
      "Linear Regression Predictions:\n",
      "Prediction for $100 spend: $9.88\n",
      "Prediction for $250 spend: $17.85\n",
      "Prediction for $400 spend: $25.81\n"
     ]
    }
   ],
   "source": [
    "# Calculate predicted sales using linear regression equation: y = mx + c\n",
    "predicted_sales_linear = potential_spend * m + c\n",
    "\n",
    "print(\"Linear Regression Predictions:\")\n",
    "print(f\"Prediction for $100 spend: ${predicted_sales_linear[20]:.2f}\")\n",
    "print(f\"Prediction for $250 spend: ${predicted_sales_linear[50]:.2f}\")\n",
    "print(f\"Prediction for $400 spend: ${predicted_sales_linear[80]:.2f}\")"
   ]
  },
  {
   "cell_type": "code",
   "execution_count": 12,
   "metadata": {
    "application/vnd.databricks.v1+cell": {
     "cellMetadata": {
      "byteLimit": 2048000,
      "rowLimit": 10000
     },
     "inputWidgets": {},
     "nuid": "6691bd2e-7b1b-4814-bfc5-d9c34771d275",
     "showTitle": false,
     "title": ""
    }
   },
   "outputs": [
    {
     "data": {
      "image/png": "[encoded data removed]",
      "text/plain": [
       "<Figure size 1200x700 with 1 Axes>"
      ]
     },
     "metadata": {},
     "output_type": "display_data"
    },
    {
     "name": "stdout",
     "output_type": "stream",
     "text": [
      "Observation: Notice how the linear line might not capture all the curvature in the data\n"
     ]
    }
   ],
   "source": [
    "# =============================================================================\n",
    "# VISUALIZATION: Linear Regression Fit\n",
    "# =============================================================================\n",
    "\n",
    "plt.figure(figsize=(12, 7))\n",
    "\n",
    "# Plot original data points\n",
    "sns.scatterplot(data=df, x='Total_Spends', y='Sales', alpha=0.7, s=60, label='Actual Data')\n",
    "\n",
    "# Plot linear regression line\n",
    "plt.plot(potential_spend, predicted_sales_linear, color='red', linewidth=3, \n",
    "         label=f'Linear Fit: y = {m:.4f}x + {c:.4f}')\n",
    "\n",
    "plt.xlabel('Total Advertising Spend ($)')\n",
    "plt.ylabel('Sales ($)')\n",
    "plt.title('Linear Regression: Total Spend vs Sales')\n",
    "plt.legend()\n",
    "plt.grid(True, alpha=0.3)\n",
    "plt.tight_layout()\n",
    "plt.show()\n",
    "\n",
    "print(\"Observation: Notice how the linear line might not capture all the curvature in the data\")"
   ]
  },
  {
   "cell_type": "code",
   "execution_count": 13,
   "metadata": {
    "application/vnd.databricks.v1+cell": {
     "cellMetadata": {
      "byteLimit": 2048000,
      "rowLimit": 10000
     },
     "inputWidgets": {},
     "nuid": "aaaffa3a-9348-4c08-896f-290f67ca67f2",
     "showTitle": false,
     "title": ""
    }
   },
   "outputs": [
    {
     "name": "stdout",
     "output_type": "stream",
     "text": [
      "Linear Regression Prediction:\n",
      "Total advertising spend: $200\n",
      "Predicted sales: $15.09\n",
      "Using equation: y = 0.0526 × 200 + 4.5736 = 15.09\n"
     ]
    }
   ],
   "source": [
    "# =============================================================================\n",
    "# SINGLE PREDICTION EXAMPLE\n",
    "# =============================================================================\n",
    "\n",
    "# Make a prediction for a specific advertising spend amount\n",
    "spend_amount = 200\n",
    "predicted_sales_amount = spend_amount * m + c\n",
    "\n",
    "print(f\"Linear Regression Prediction:\")\n",
    "print(f\"Total advertising spend: ${spend_amount}\")\n",
    "print(f\"Predicted sales: ${predicted_sales_amount:.2f}\")\n",
    "print(f\"Using equation: y = {m:.4f} × {spend_amount} + {c:.4f} = {predicted_sales_amount:.2f}\")"
   ]
  },
  {
   "cell_type": "markdown",
   "metadata": {
    "application/vnd.databricks.v1+cell": {
     "cellMetadata": {
      "byteLimit": 2048000,
      "rowLimit": 10000
     },
     "inputWidgets": {},
     "nuid": "d478a843-6107-44c4-91cc-6474da813cf9",
     "showTitle": false,
     "title": ""
    }
   },
   "source": [
    "how good is this fit and do we have over fitting and under fitting \n",
    "\n",
    "## 🤔 Model Evaluation: How Good is This Fit?\n",
    "\n",
    "### The Fundamental Question: Underfitting vs. Overfitting\n",
    "\n",
    "Before we proceed, we need to understand a critical concept in machine learning:\n",
    "\n",
    "### 🔍 **The Bias-Variance Tradeoff**\n",
    "\n",
    "**Underfitting (High Bias)**\n",
    "- **Low Degree Polynomials (e.g., 1 or 2)**: Too simple to capture the true pattern\n",
    "- **Symptoms**: High error on both training and test data\n",
    "- **Example**: Using a straight line when the relationship is clearly curved\n",
    "\n",
    "**Overfitting (High Variance)** \n",
    "- **High Degree Polynomials (e.g., 10 or 20)**: Too complex, fits random noise\n",
    "- **Symptoms**: Low training error but high test error\n",
    "- **Example**: A wiggly line that passes through every training point but fails on new data\n",
    "\n",
    "**The Sweet Spot**\n",
    "- **Goal**: Find the degree that captures the true pattern without fitting noise\n",
    "- **Method**: Use train/test splits and compare performance across degrees\n",
    "- **Evaluation**: The degree that minimizes test error (not training error!)\n",
    "\n",
    "### 📊 **Evaluation Process**\n",
    "1. **Split Data**: Training set (80%) + Test set (20%)\n",
    "2. **Loop Through Degrees**: Test degrees 1, 2, 3, 4, 5...\n",
    "3. **Calculate Errors**: RMSE on both training and test sets\n",
    "4. **Find the Elbow**: Degree where test error is minimized\n",
    "\n",
    "Let's now compare linear (degree=1) with cubic (degree=3) regression:"
   ]
  },
  {
   "cell_type": "code",
   "execution_count": 14,
   "metadata": {
    "application/vnd.databricks.v1+cell": {
     "cellMetadata": {
      "byteLimit": 2048000,
      "rowLimit": 10000
     },
     "inputWidgets": {},
     "nuid": "b5b955a8-4b24-45c2-8b54-c90c66869271",
     "showTitle": false,
     "title": ""
    }
   },
   "outputs": [
    {
     "name": "stdout",
     "output_type": "stream",
     "text": [
      "Cubic Regression Results:\n",
      "Coefficient for x³ (a): 0.00000004\n",
      "Coefficient for x² (b): -0.000071\n",
      "Coefficient for x¹ (c): 0.0749\n",
      "Constant term (d): 2.9465\n",
      "\n",
      "Equation: y = 0.00000004x³ + -0.000071x² + 0.0749x + 2.9465\n"
     ]
    }
   ],
   "source": [
    "# =============================================================================\n",
    "# CUBIC REGRESSION (Degree 3) using NumPy\n",
    "# =============================================================================\n",
    "\n",
    "# Fit a cubic polynomial: y = ax³ + bx² + cx + d\n",
    "# Returns coefficients [a, b, c, d] in descending order of powers\n",
    "a, b, c, d = np.polyfit(x, y, deg=3)\n",
    "\n",
    "print(\"Cubic Regression Results:\")\n",
    "print(f\"Coefficient for x³ (a): {a:.8f}\")\n",
    "print(f\"Coefficient for x² (b): {b:.6f}\")  \n",
    "print(f\"Coefficient for x¹ (c): {c:.4f}\")\n",
    "print(f\"Constant term (d): {d:.4f}\")\n",
    "print(f\"\\nEquation: y = {a:.8f}x³ + {b:.6f}x² + {c:.4f}x + {d:.4f}\")\n",
    "\n",
    "# Note: The cubic coefficient (a) is very small, suggesting the cubic term might not be significant"
   ]
  },
  {
   "cell_type": "code",
   "execution_count": 15,
   "metadata": {
    "application/vnd.databricks.v1+cell": {
     "cellMetadata": {
      "byteLimit": 2048000,
      "rowLimit": 10000
     },
     "inputWidgets": {},
     "nuid": "35b430d4-53d2-407b-851b-67896827d715",
     "showTitle": false,
     "title": ""
    }
   },
   "outputs": [
    {
     "name": "stdout",
     "output_type": "stream",
     "text": [
      "Equation Forms:\n",
      "Linear:      y = mx + c\n",
      "Standard:    y = β₀ + β₁x\n",
      "Cubic:       y = ax³ + bx² + cx + d\n",
      "Standard:    y = β₀ + β₁x + β₂x² + β₃x³\n",
      "\n",
      "Checking if cubic term is significant:\n",
      "Cubic coefficient magnitude: 0.0000000449\n",
      "This very small coefficient suggests the cubic term may not be adding much value\n"
     ]
    }
   ],
   "source": [
    "# Polynomial equation forms comparison:\n",
    "print(\"Equation Forms:\")\n",
    "print(\"Linear:      y = mx + c\")\n",
    "print(\"Standard:    y = β₀ + β₁x\") \n",
    "print(\"Cubic:       y = ax³ + bx² + cx + d\")\n",
    "print(\"Standard:    y = β₀ + β₁x + β₂x² + β₃x³\")\n",
    "print()\n",
    "print(\"Checking if cubic term is significant:\")\n",
    "print(f\"Cubic coefficient magnitude: {abs(a):.10f}\")\n",
    "print(\"This very small coefficient suggests the cubic term may not be adding much value\")"
   ]
  },
  {
   "cell_type": "code",
   "execution_count": 16,
   "metadata": {
    "application/vnd.databricks.v1+cell": {
     "cellMetadata": {
      "byteLimit": 2048000,
      "rowLimit": 10000
     },
     "inputWidgets": {},
     "nuid": "8f6079ee-c0ff-40c9-9285-323116194d9f",
     "showTitle": false,
     "title": ""
    }
   },
   "outputs": [],
   "source": [
    "# Create prediction range for cubic regression (same as linear for comparison)\n",
    "potential_spend_cubic = np.linspace(0, 500, 100)"
   ]
  },
  {
   "cell_type": "code",
   "execution_count": 17,
   "metadata": {
    "application/vnd.databricks.v1+cell": {
     "cellMetadata": {
      "byteLimit": 2048000,
      "rowLimit": 10000
     },
     "inputWidgets": {},
     "nuid": "26e630f2-752b-486a-a28d-f4cd50f3f578",
     "showTitle": false,
     "title": ""
    }
   },
   "outputs": [
    {
     "name": "stdout",
     "output_type": "stream",
     "text": [
      "Cubic Regression Predictions:\n",
      "Prediction for $100 spend: $9.84\n",
      "Prediction for $250 spend: $18.08\n",
      "Prediction for $400 spend: $24.64\n"
     ]
    }
   ],
   "source": [
    "# Calculate predicted sales using cubic regression equation: y = ax³ + bx² + cx + d\n",
    "predicted_sales_cubic = (a * potential_spend_cubic**3 + \n",
    "                        b * potential_spend_cubic**2 + \n",
    "                        c * potential_spend_cubic**1 + \n",
    "                        d)\n",
    "\n",
    "print(\"Cubic Regression Predictions:\")\n",
    "print(f\"Prediction for $100 spend: ${predicted_sales_cubic[20]:.2f}\")\n",
    "print(f\"Prediction for $250 spend: ${predicted_sales_cubic[50]:.2f}\")\n",
    "print(f\"Prediction for $400 spend: ${predicted_sales_cubic[80]:.2f}\")"
   ]
  },
  {
   "cell_type": "code",
   "execution_count": 18,
   "metadata": {
    "application/vnd.databricks.v1+cell": {
     "cellMetadata": {
      "byteLimit": 2048000,
      "rowLimit": 10000
     },
     "inputWidgets": {},
     "nuid": "a754c68a-cc9d-402a-98b9-cf4258c5f056",
     "showTitle": false,
     "title": ""
    }
   },
   "outputs": [
    {
     "data": {
      "image/png": "[encoded data removed]",
      "text/plain": [
       "<Figure size 1500x600 with 2 Axes>"
      ]
     },
     "metadata": {},
     "output_type": "display_data"
    },
    {
     "name": "stdout",
     "output_type": "stream",
     "text": [
      "Visual Comparison:\n",
      "- Red dashed line: Linear regression (simple, might underfit)\n",
      "- Green solid line: Cubic regression (more flexible, captures curves better)\n",
      "- Question: Which one generalizes better to new data?\n"
     ]
    }
   ],
   "source": [
    "# =============================================================================\n",
    "# COMPARISON: Linear vs Cubic Regression\n",
    "# =============================================================================\n",
    "\n",
    "plt.figure(figsize=(15, 6))\n",
    "\n",
    "# Subplot 1: Cubic regression only\n",
    "plt.subplot(1, 2, 1)\n",
    "sns.scatterplot(data=df, x='Total_Spends', y='Sales', alpha=0.7, s=60)\n",
    "plt.plot(potential_spend_cubic, predicted_sales_cubic, color='green', linewidth=3, \n",
    "         label='Cubic Fit')\n",
    "plt.xlabel('Total Advertising Spend ($)')\n",
    "plt.ylabel('Sales ($)')\n",
    "plt.title('Cubic Regression (Degree 3)')\n",
    "plt.legend()\n",
    "plt.grid(True, alpha=0.3)\n",
    "\n",
    "# Subplot 2: Both linear and cubic for comparison\n",
    "plt.subplot(1, 2, 2)\n",
    "sns.scatterplot(data=df, x='Total_Spends', y='Sales', alpha=0.7, s=60, label='Actual Data')\n",
    "plt.plot(potential_spend, predicted_sales_linear, color='red', linewidth=3, \n",
    "         label='Linear (Degree 1)', linestyle='--')\n",
    "plt.plot(potential_spend_cubic, predicted_sales_cubic, color='green', linewidth=3, \n",
    "         label='Cubic (Degree 3)')\n",
    "plt.xlabel('Total Advertising Spend ($)')\n",
    "plt.ylabel('Sales ($)')\n",
    "plt.title('Linear vs Cubic Regression Comparison')\n",
    "plt.legend()\n",
    "plt.grid(True, alpha=0.3)\n",
    "\n",
    "plt.tight_layout()\n",
    "plt.show()\n",
    "\n",
    "print(\"Visual Comparison:\")\n",
    "print(\"- Red dashed line: Linear regression (simple, might underfit)\")\n",
    "print(\"- Green solid line: Cubic regression (more flexible, captures curves better)\")\n",
    "print(\"- Question: Which one generalizes better to new data?\")"
   ]
  },
  {
   "cell_type": "markdown",
   "metadata": {
    "application/vnd.databricks.v1+cell": {
     "cellMetadata": {
      "byteLimit": 2048000,
      "rowLimit": 10000
     },
     "inputWidgets": {},
     "nuid": "77ffde65-cbc7-4f4c-b15f-d95645fc3d08",
     "showTitle": false,
     "title": ""
    }
   },
   "source": [
    "How can we decide which curve is the best:  Bias-Variance Tradeoff\n",
    "\n",
    "What my error is: Mean Squared Error (MSE)\n",
    "\n",
    "In Linear Regression, the Mean Squared Error (MSE) cost function is\n",
    "employed, which calculates the average of the squared errors between the\n",
    "predicted values and the actual values The purpose is to determine the optimal\n",
    "values for the intercept and the coefficient of the input feature providing the\n",
    "best-fit line for the given data points\n",
    "\n",
    "\n",
    "## 📊 How to Decide Which Model is Best: Proper Evaluation\n",
    "\n",
    "### The Problem with Visual Inspection\n",
    "While the plots above are helpful, we can't rely on visual inspection alone. We need **quantitative metrics** to determine which model performs better.\n",
    "\n",
    "### 🎯 **Evaluation Methodology**\n",
    "\n",
    "**Step 1: Split Your Data**\n",
    "- **Training Set** (80%): Used to train/fit the models\n",
    "- **Test Set** (20%): Used only for final evaluation (model never sees this during training)\n",
    "\n",
    "**Step 2: Calculate Error Metrics**\n",
    "- **Mean Squared Error (MSE)**: Average of squared differences between actual and predicted values\n",
    "- **Root Mean Squared Error (RMSE)**: Square root of MSE (easier to interpret, same units as target)\n",
    "\n",
    "**Step 3: Compare Performance**\n",
    "- Train multiple models (different degrees) on training set\n",
    "- Evaluate all models on test set\n",
    "- Choose the model with lowest test error (not training error!)\n",
    "\n",
    "**Step 4: Look for the \"Elbow\"**\n",
    "- Plot training vs test error across degrees\n",
    "- Find the point where test error is minimized\n",
    "- Beyond this point = overfitting\n",
    "\n",
    "### ⚠️ **Critical Insight**\n",
    "The goal is to see how well each model **generalizes to new, unseen data**. A model that memorizes the training data but fails on new data is useless in practice.\n",
    "\n",
    "Let's now implement this properly using Sklearn...\n"
   ]
  },
  {
   "cell_type": "markdown",
   "metadata": {
    "application/vnd.databricks.v1+cell": {
     "cellMetadata": {},
     "inputWidgets": {},
     "nuid": "bbf436c1-dfe5-4112-b2c5-e4afd0be6efe",
     "showTitle": false,
     "title": ""
    }
   },
   "source": [
    "# Part 2: Production-Ready Linear Regression with Sklearn\n",
    "\n",
    "## 🎯 What We'll Learn\n",
    "- Professional ML workflow using Sklearn\n",
    "- Proper train/test splitting for reliable evaluation\n",
    "- Multiple features (TV, Radio, Newspaper) instead of just Total_Spends\n",
    "- Model evaluation metrics (MAE, MSE, RMSE)\n",
    "- Residual analysis to validate model assumptions\n",
    "- Model persistence for production deployment\n",
    "\n",
    "## 🤔 **Key Question**\n",
    "How well can we predict sales using a simple straight-line relationship with **all our features** (TV, Radio, Newspaper)?\n",
    "\n",
    "This will establish our **baseline performance** that any polynomial model must beat to be considered an improvement."
   ]
  },
  {
   "cell_type": "code",
   "execution_count": 19,
   "metadata": {
    "application/vnd.databricks.v1+cell": {
     "cellMetadata": {
      "byteLimit": 2048000,
      "rowLimit": 10000
     },
     "inputWidgets": {},
     "nuid": "942b1753-cd5a-4528-b76f-dd952fb0720a",
     "showTitle": false,
     "title": ""
    }
   },
   "outputs": [
    {
     "name": "stdout",
     "output_type": "stream",
     "text": [
      "Dataset for multi-feature analysis:\n",
      "Shape: (200, 4)\n",
      "Columns: ['TV', 'Radio', 'Newspaper', 'Sales']\n"
     ]
    }
   ],
   "source": [
    "# =============================================================================\n",
    "# PART 2: DATA PREPARATION FOR MULTIPLE FEATURES\n",
    "# =============================================================================\n",
    "\n",
    "# Reload data for clean start (remove Total_Spends feature)\n",
    "df = pd.read_csv('advertising.csv')\n",
    "print(\"Dataset for multi-feature analysis:\")\n",
    "print(f\"Shape: {df.shape}\")\n",
    "print(f\"Columns: {df.columns.tolist()}\")"
   ]
  },
  {
   "cell_type": "code",
   "execution_count": 20,
   "metadata": {
    "application/vnd.databricks.v1+cell": {
     "cellMetadata": {
      "byteLimit": 2048000,
      "rowLimit": 10000
     },
     "inputWidgets": {},
     "nuid": "52ed9f1f-d724-46ab-bb35-5859827a814d",
     "showTitle": false,
     "title": ""
    }
   },
   "outputs": [
    {
     "name": "stdout",
     "output_type": "stream",
     "text": [
      "Features (X):\n",
      "  Shape: (200, 3)\n",
      "  Columns: ['TV', 'Radio', 'Newspaper']\n",
      "  Sample values:\n",
      "      TV  Radio  Newspaper\n",
      "0  230.1   37.8       69.2\n",
      "1   44.5   39.3       45.1\n",
      "2   17.2   45.9       69.3\n",
      "3  151.5   41.3       58.5\n",
      "4  180.8   10.8       58.4\n",
      "\n",
      "Target (Y):\n",
      "  Shape: (200,)\n",
      "  Sample values: [22.1 10.4 12.  16.5 17.9]\n"
     ]
    }
   ],
   "source": [
    "# Prepare features and target variables\n",
    "X = df.drop(['Sales'], axis=1)  # Features: TV, Radio, Newspaper\n",
    "Y = df['Sales']                 # Target: Sales\n",
    "\n",
    "print(\"Features (X):\")\n",
    "print(f\"  Shape: {X.shape}\")\n",
    "print(f\"  Columns: {X.columns.tolist()}\")\n",
    "print(f\"  Sample values:\\n{X.head()}\")\n",
    "print(f\"\\nTarget (Y):\")\n",
    "print(f\"  Shape: {Y.shape}\")\n",
    "print(f\"  Sample values: {Y.head().values}\")"
   ]
  },
  {
   "cell_type": "code",
   "execution_count": 21,
   "metadata": {
    "application/vnd.databricks.v1+cell": {
     "cellMetadata": {
      "byteLimit": 2048000,
      "rowLimit": 10000
     },
     "inputWidgets": {},
     "nuid": "aa0f1c48-9de8-4db8-970a-677934f2eea9",
     "showTitle": false,
     "title": ""
    }
   },
   "outputs": [],
   "source": [
    "# =============================================================================\n",
    "# SKLEARN IMPORTS AND MODEL SETUP\n",
    "# =============================================================================\n",
    "\n",
    "# Import required modules for machine learning\n",
    "from sklearn.linear_model import LinearRegression\n",
    "from sklearn.model_selection import train_test_split\n",
    "from sklearn.metrics import mean_absolute_error, mean_squared_error\n",
    "import scipy.stats as stats"
   ]
  },
  {
   "cell_type": "code",
   "execution_count": 22,
   "metadata": {
    "application/vnd.databricks.v1+cell": {
     "cellMetadata": {
      "byteLimit": 2048000,
      "rowLimit": 10000
     },
     "inputWidgets": {},
     "nuid": "f5da6480-dbeb-41a9-81df-dbb4753c4e50",
     "showTitle": false,
     "title": ""
    }
   },
   "outputs": [
    {
     "name": "stdout",
     "output_type": "stream",
     "text": [
      "Linear regression model initialized\n",
      "Model parameters before training: {'copy_X': True, 'fit_intercept': True, 'n_jobs': None, 'positive': False}\n"
     ]
    }
   ],
   "source": [
    "# Initialize linear regression model\n",
    "# This creates a model object that will learn the relationship between features and target\n",
    "model = LinearRegression()\n",
    "print(\"Linear regression model initialized\")\n",
    "print(\"Model parameters before training:\", model.get_params())"
   ]
  },
  {
   "cell_type": "code",
   "execution_count": 23,
   "metadata": {
    "application/vnd.databricks.v1+cell": {
     "cellMetadata": {
      "byteLimit": 2048000,
      "rowLimit": 10000
     },
     "inputWidgets": {},
     "nuid": "3e0598aa-f970-47fc-9851-47b788d894a1",
     "showTitle": false,
     "title": ""
    }
   },
   "outputs": [
    {
     "name": "stdout",
     "output_type": "stream",
     "text": [
      "Data split completed:\n",
      "Training set: 134 samples (67.0%)\n",
      "Test set: 66 samples (33.0%)\n",
      "Features: 3\n",
      "\n",
      "Test set will be used ONLY for final evaluation!\n"
     ]
    }
   ],
   "source": [
    "from sklearn.model_selection import train_test_split\n",
    "\n",
    "# =============================================================================\n",
    "# TRAIN/TEST SPLIT: Critical for Honest Evaluation\n",
    "# =============================================================================\n",
    "\n",
    "# Split data: 67% training, 33% testing\n",
    "# random_state=42 ensures reproducible results\n",
    "X_train, X_test, y_train, y_test = train_test_split(\n",
    "    X, Y, test_size=0.33, random_state=42\n",
    ")\n",
    "\n",
    "print(\"Data split completed:\")\n",
    "print(f\"Training set: {X_train.shape[0]} samples ({X_train.shape[0]/len(X)*100:.1f}%)\")\n",
    "print(f\"Test set: {X_test.shape[0]} samples ({X_test.shape[0]/len(X)*100:.1f}%)\")\n",
    "print(f\"Features: {X_train.shape[1]}\")\n",
    "print(\"\\nTest set will be used ONLY for final evaluation!\")\n"
   ]
  },
  {
   "cell_type": "code",
   "execution_count": 24,
   "metadata": {
    "application/vnd.databricks.v1+cell": {
     "cellMetadata": {
      "byteLimit": 2048000,
      "rowLimit": 10000
     },
     "inputWidgets": {},
     "nuid": "e875832a-43b1-425e-9ffe-476e9136a11b",
     "showTitle": false,
     "title": ""
    }
   },
   "outputs": [
    {
     "name": "stdout",
     "output_type": "stream",
     "text": [
      "Model training completed!\n",
      "Model coefficients: [0.05378717 0.10027874 0.00789845]\n",
      "Model intercept: 4.7980\n",
      "\n",
      "Learned equation:\n",
      "Sales = 4.7980 + 0.0538×TV + 0.1003×Radio + 0.0079×Newspaper\n"
     ]
    }
   ],
   "source": [
    "# =============================================================================\n",
    "# MODEL TRAINING\n",
    "# =============================================================================\n",
    "\n",
    "# Train the model on training data only\n",
    "# The model learns the relationship: Sales = β₀ + β₁×TV + β₂×Radio + β₃×Newspaper\n",
    "model.fit(X_train, y_train)\n",
    "\n",
    "print(\"Model training completed!\")\n",
    "print(f\"Model coefficients: {model.coef_}\")\n",
    "print(f\"Model intercept: {model.intercept_:.4f}\")\n",
    "print(\"\\nLearned equation:\")\n",
    "print(f\"Sales = {model.intercept_:.4f} + {model.coef_[0]:.4f}×TV + {model.coef_[1]:.4f}×Radio + {model.coef_[2]:.4f}×Newspaper\")"
   ]
  },
  {
   "cell_type": "code",
   "execution_count": 25,
   "metadata": {
    "application/vnd.databricks.v1+cell": {
     "cellMetadata": {
      "byteLimit": 2048000,
      "rowLimit": 10000
     },
     "inputWidgets": {},
     "nuid": "af9add80-16f1-4611-80ab-34703e84a872",
     "showTitle": false,
     "title": ""
    }
   },
   "outputs": [
    {
     "name": "stdout",
     "output_type": "stream",
     "text": [
      "Predictions on test set:\n",
      "Number of predictions: 66\n",
      "Sample predictions: [17.16807449 20.5091305  23.73135731  9.48459836 21.58624062]\n",
      "Sample actual values: [16.9 22.4 21.4  7.3 24.7]\n",
      "Sample errors: [-0.26807449  1.8908695  -2.33135731 -2.18459836  3.11375938]\n"
     ]
    }
   ],
   "source": [
    "# =============================================================================\n",
    "# MODEL EVALUATION: Predictions and Metrics\n",
    "# =============================================================================\n",
    "\n",
    "# Make predictions on test set (data the model has never seen)\n",
    "predictions = model.predict(X_test)\n",
    "\n",
    "print(\"Predictions on test set:\")\n",
    "print(f\"Number of predictions: {len(predictions)}\")\n",
    "print(f\"Sample predictions: {predictions[:5]}\")\n",
    "print(f\"Sample actual values: {y_test.head().values}\")\n",
    "print(f\"Sample errors: {(y_test.head().values - predictions[:5])}\")"
   ]
  },
  {
   "cell_type": "code",
   "execution_count": null,
   "metadata": {
    "application/vnd.databricks.v1+cell": {
     "cellMetadata": {
      "byteLimit": 2048000,
      "rowLimit": 10000
     },
     "inputWidgets": {},
     "nuid": "d64ef9a1-91d9-44af-ac16-0aad0682272c",
     "showTitle": false,
     "title": ""
    }
   },
   "outputs": [
    {
     "name": "stdout",
     "output_type": "stream",
     "text": [
      "=== LINEAR REGRESSION PERFORMANCE METRICS ===\n",
      "Mean Absolute Error (MAE): $1.2220\n",
      "  → On average, predictions are off by $1.22\n",
      "Mean Squared Error (MSE): 2.7229\n",
      "  → Squares the errors, penalizes large errors more\n",
      "Root Mean Squared Error (RMSE): $1.6501\n",
      "  → Standard deviation of prediction errors\n",
      "\n",
      "🎯 BASELINE PERFORMANCE ESTABLISHED:\n",
      "   Linear Regression RMSE = $1.65\n",
      "   Any polynomial model must beat this to be considered an improvement!\n"
     ]
    }
   ],
   "source": [
    "# This function calculates the average absolute difference between actual and predicted values, giving a sense of how far off the predictions are on average.\n",
    "# It is useful for understanding the average error in the predictions, but it does not square the errors, so it treats all errors equally regardless of their size.\n",
    "# A lower value indicates better model performance, as it means the predictions are closer to the actual values.\n",
    "# The output is a single number representing the average absolute error across all predictions.\n",
    "# This is a common metric used to evaluate regression models, as it provides a straightforward interpretation of the model's accuracy in terms of the average error in predictions.\n",
    "\n",
    "# Calculate comprehensive evaluation metrics\n",
    "MAE = mean_absolute_error(y_test, predictions)\n",
    "MSE = mean_squared_error(y_test, predictions)\n",
    "RMSE = np.sqrt(MSE)\n",
    "\n",
    "# Calculate R-squared (coefficient of determination)\n",
    "R2 = model.score(X_test, y_test)  # Built-in sklearn method\n",
    "# Alternative manual calculation: R2 = 1 - (SS_res / SS_tot)\n",
    "\n",
    "print(\"=== LINEAR REGRESSION PERFORMANCE METRICS ===\")\n",
    "print(f\"R-squared (R²): {R2:.4f}\")\n",
    "print(f\"  → Model explains {R2*100:.1f}% of variance in sales\")\n",
    "print(f\"Mean Absolute Error (MAE): ${MAE:.4f}\")\n",
    "print(f\"  → On average, predictions are off by ${MAE:.2f}\")\n",
    "print(f\"Mean Squared Error (MSE): {MSE:.4f}\")\n",
    "print(f\"  → Squares the errors, penalizes large errors more\")\n",
    "print(f\"Root Mean Squared Error (RMSE): ${RMSE:.4f}\")\n",
    "print(f\"  → Standard deviation of prediction errors\")\n",
    "print()\n",
    "print(\"🎯 BASELINE PERFORMANCE ESTABLISHED:\")\n",
    "print(f\"   Linear Regression R² = {R2:.3f} | RMSE = ${RMSE:.2f}\")\n",
    "print(\"   Any polynomial model must beat these metrics to be considered an improvement!\")"
   ]
  },
  {
   "cell_type": "markdown",
   "metadata": {},
   "source": [
    "## 📊 Understanding R-squared (Coefficient of Determination)\n",
    "\n",
    "**What does R² = 0.XXX mean?**\n",
    "\n",
    "R-squared tells us **what percentage of variance in sales is explained by our advertising features**.\n",
    "\n",
    "### **R-squared Interpretation Guide:**\n",
    "- **R² = 0.0-0.3**: Weak relationship - model barely better than using mean\n",
    "- **R² = 0.3-0.5**: Moderate relationship - decent predictive power\n",
    "- **R² = 0.5-0.7**: Strong relationship - good predictive power\n",
    "- **R² = 0.7-0.9**: Very strong relationship - excellent predictive power\n",
    "- **R² = 0.9-1.0**: Extremely strong - potentially overfitting (suspicious!)\n",
    "\n",
    "### **Business Context:**\n",
    "- **Our R²**: Model explains ~XX% of sales variation through advertising\n",
    "- **Remaining (1-R²)**: XX% due to other factors (seasonality, competition, economic conditions)\n",
    "\n",
    "### **Why Both RMSE and R² Matter:**\n",
    "- **RMSE**: Tells us prediction accuracy in dollar terms\n",
    "- **R²**: Tells us how much of the sales pattern we're capturing\n",
    "- **Together**: Complete picture of model performance\n",
    "\n",
    "### **Key Insight:**\n",
    "R² helps answer: *\"Are we missing important patterns in the data?\"*\n",
    "- Low R² → Look for missing features or non-linear relationships\n",
    "- High R² → Model captures most explainable variance"
   ]
  },
  {
   "cell_type": "markdown",
   "metadata": {},
   "source": [
    "## 🎯 Baseline Performance Established!\n",
    "\n",
    "**Key Insight**: The calculated **RMSE of 1.65** is now our **baseline metric**. \n",
    "\n",
    "This answers the question: *\"How well can a simple linear model perform?\"*\n",
    "\n",
    "### Why This Matters\n",
    "- Any more complex model (polynomial regression) **must perform better** than this on the test set to be considered an improvement\n",
    "- If a polynomial model has higher RMSE, it means the added complexity isn't justified\n",
    "- This is the foundation of **model selection** - always start simple and add complexity only if it improves performance\n",
    "\n",
    "### Next Steps\n",
    "1. Analyze residuals to understand model behavior\n",
    "2. Check model assumptions (normality, homoscedasticity)  \n",
    "3. Build polynomial models and compare to this baseline"
   ]
  },
  {
   "cell_type": "code",
   "execution_count": 27,
   "metadata": {
    "application/vnd.databricks.v1+cell": {
     "cellMetadata": {
      "byteLimit": 2048000,
      "rowLimit": 10000
     },
     "inputWidgets": {},
     "nuid": "7234ec8e-9df4-4ad8-a029-349418dd4192",
     "showTitle": false,
     "title": ""
    }
   },
   "outputs": [
    {
     "name": "stdout",
     "output_type": "stream",
     "text": [
      "Residual Analysis:\n",
      "Number of residuals: 66\n",
      "Mean residual: -0.456689 (should be close to 0)\n",
      "Std of residuals: 1.5978\n",
      "Min residual: -5.4822\n",
      "Max residual: 3.4771\n"
     ]
    }
   ],
   "source": [
    "# =============================================================================\n",
    "# RESIDUAL ANALYSIS: Validating Model Assumptions\n",
    "# =============================================================================\n",
    "\n",
    "# Calculate residuals (difference between actual and predicted values)\n",
    "# Residual = Actual - Predicted\n",
    "test_residuals = y_test - predictions\n",
    "\n",
    "print(\"Residual Analysis:\")\n",
    "print(f\"Number of residuals: {len(test_residuals)}\")\n",
    "print(f\"Mean residual: {test_residuals.mean():.6f} (should be close to 0)\")\n",
    "print(f\"Std of residuals: {test_residuals.std():.4f}\")\n",
    "print(f\"Min residual: {test_residuals.min():.4f}\")\n",
    "print(f\"Max residual: {test_residuals.max():.4f}\")"
   ]
  },
  {
   "cell_type": "code",
   "execution_count": 28,
   "metadata": {
    "application/vnd.databricks.v1+cell": {
     "cellMetadata": {
      "byteLimit": 2048000,
      "rowLimit": 10000
     },
     "inputWidgets": {},
     "nuid": "fe12c8c5-a136-4434-8c08-09e87654c65a",
     "showTitle": false,
     "title": ""
    }
   },
   "outputs": [
    {
     "data": {
      "image/png": "[encoded data removed]",
      "text/plain": [
       "<Figure size 640x480 with 1 Axes>"
      ]
     },
     "metadata": {},
     "output_type": "display_data"
    }
   ],
   "source": [
    "# This scatter plot shows the relationship between actual sales and residuals, \n",
    "# helping to visualize how well the model's predictions align with the actual values.\n",
    "sns.scatterplot(x=y_test,y=test_residuals)\n",
    "plt.axhline(y=0,color='r',ls='--')\n",
    "plt.xlabel('Actual Sales')\n",
    "plt.ylabel('Residuals')\n",
    "plt.title('Residuals vs Actual Sales')\n",
    "plt.show()"
   ]
  },
  {
   "cell_type": "code",
   "execution_count": 29,
   "metadata": {},
   "outputs": [],
   "source": [
    "# A good regression model should have errors that are random and show no discernible pattern.\n",
    "# Red Dashed Line: This line at y=0 is the baseline for a perfect prediction (zero error).\n",
    "# The points appear to be randomly scattered around the horizontal red line. \n",
    "# There is no clear curve or pattern, indicating that the model's errors are random and not systematic.\n",
    "# This suggests that the model is well-fitted to the data, as it does not show any bias or systematic error in its predictions.\n",
    "# If the points were clustered in a specific pattern, it would indicate that the model is not capturing some underlying relationship in the data, suggesting that a more\n",
    "# It suggests that the linear relationship your model assumed is generally appropriate.\n",
    "# heteroscedasticity, which means the variance of the errors is not constant."
   ]
  },
  {
   "cell_type": "markdown",
   "metadata": {},
   "source": [
    "\"The residual plot shows that while the model's errors are centered around zero and do not exhibit any obvious non-linear patterns, there is clear evidence of heteroscedasticity. The model is significantly more accurate at predicting lower sales values, but its error margin increases substantially for higher sales values, indicating that its predictive power is not consistent across the range of the data.\""
   ]
  },
  {
   "cell_type": "code",
   "execution_count": 30,
   "metadata": {
    "application/vnd.databricks.v1+cell": {
     "cellMetadata": {
      "byteLimit": 2048000,
      "rowLimit": 10000
     },
     "inputWidgets": {},
     "nuid": "9729de22-3d6c-42ae-ae9a-40e04f8b5852",
     "showTitle": false,
     "title": ""
    }
   },
   "outputs": [
    {
     "data": {
      "image/png": "[encoded data removed]",
      "text/plain": [
       "<Figure size 500x500 with 1 Axes>"
      ]
     },
     "metadata": {},
     "output_type": "display_data"
    }
   ],
   "source": [
    " # This histogram shows the distribution of residuals, helping to visualize how the errors are spread out across different values.\n",
    "sns.displot(test_residuals,bins=25,kde=True)\n",
    "plt.xlabel('Residuals')\n",
    "plt.ylabel('Frequency')\n",
    "plt.show()"
   ]
  },
  {
   "cell_type": "markdown",
   "metadata": {},
   "source": [
    "Residuals follow a normal distribution (a bell curve).\n",
    "The Errors are Centered Around Zero: The highest bars and the peak of the smooth curve are centered right at Residuals = 0. \n",
    "The Distribution is Approximately Normal: The shape of the histogram and the KDE curve roughly resembles the classic \"bell curve\" of a normal distribution. \n",
    "\n",
    "\"The histogram of the residuals indicates that the model's errors are approximately normally distributed and centered at zero. This supports the validity of the linear regression model. While the previous residual plot showed that the variance of the errors is not constant, this plot confirms that the errors themselves are not systematically biased.\""
   ]
  },
  {
   "cell_type": "code",
   "execution_count": 31,
   "metadata": {
    "application/vnd.databricks.v1+cell": {
     "cellMetadata": {
      "byteLimit": 2048000,
      "rowLimit": 10000
     },
     "inputWidgets": {},
     "nuid": "471e40cf-8968-4924-bdd4-811c44ec3fc6",
     "showTitle": false,
     "title": ""
    }
   },
   "outputs": [
    {
     "data": {
      "image/png": "[encoded data removed]",
      "text/plain": [
       "<Figure size 600x600 with 1 Axes>"
      ]
     },
     "metadata": {},
     "output_type": "display_data"
    }
   ],
   "source": [
    "import scipy.stats as stats\n",
    "\n",
    "# This plot helps to assess whether the residuals follow a normal distribution, which is an assumption of many regression models.\n",
    "# If the points fall approximately along the diagonal line, it suggests that the residuals are normally distributed.\n",
    "# The red line represents the expected distribution if the residuals were perfectly normally distributed.\n",
    "# If the points deviate significantly from this line, it indicates that the residuals\n",
    "# do not follow a normal distribution, which could suggest issues with the model fit or the data.\n",
    "\n",
    "# Create a normal probability plot (Q-Q plot)\n",
    "fig = plt.figure(figsize=(6, 6)) # This creates a new figure with a specified size, allowing for better visualization of the Q-Q plot.\n",
    "ax = fig.add_subplot(111) # This creates a new figure and adds a subplot to it, allowing for plotting the Q-Q plot.\n",
    "res = stats.probplot(test_residuals, plot=ax) # This line generates the Q-Q plot, which compares the quantiles of the residuals to the quantiles of a normal distribution.\n",
    "ax.get_lines()[1].set_linestyle('-') # This line sets the style of the second line in the plot (the fitted line) to a solid line.\n",
    "ax.get_lines()[1].set_color('r') # This line sets the color of the fitted line to red, making it stand out against the data points.\n",
    "\n",
    "plt.title('Normal Probability Plot of Residuals')\n",
    "plt.xlabel('Theoretical Quantiles')\n",
    "plt.ylabel('Sample Quantiles')\n",
    "plt.show()"
   ]
  },
  {
   "cell_type": "markdown",
   "metadata": {},
   "source": [
    "Excellent Fit in the Center: The vast majority of the blue dots in the middle of the plot fall very closely along the red line. This is a strong indication that the bulk of your model's errors follow a normal distribution, which satisfies a key assumption of linear regression.\n",
    "\n",
    "Slight Deviation in the Tails: You can see minor deviations at the extreme ends of the line.\n",
    "\n",
    "On the far left (for large negative errors), there is one point that falls significantly below the red line.\n",
    "\n",
    "On the far right (for large positive errors), the points are slightly above the red line.\n",
    "\n",
    "Conclusion\n",
    "\n",
    "\"The Normal Probability Plot (Q-Q Plot) provides strong evidence that the residuals are approximately normally distributed. The data points adhere closely to the theoretical line, especially in the central region.\n",
    "\n",
    "However, the plot also reveals slight \"heavy tails\" in the distribution. The deviation of the points at the extreme ends indicates that the model produces slightly more outliers (both large positive and large negative errors) than would be expected from a perfect normal distribution. The point on the far bottom-left is a clear outlier.\n",
    "\n",
    "Overall, while not perfect, the assumption of normality is reasonably met, further validating the use of a linear regression model for this dataset.\""
   ]
  },
  {
   "cell_type": "code",
   "execution_count": 32,
   "metadata": {},
   "outputs": [
    {
     "data": {
      "text/html": [
       "<div>\n",
       "<style scoped>\n",
       "    .dataframe tbody tr th:only-of-type {\n",
       "        vertical-align: middle;\n",
       "    }\n",
       "\n",
       "    .dataframe tbody tr th {\n",
       "        vertical-align: top;\n",
       "    }\n",
       "\n",
       "    .dataframe thead th {\n",
       "        text-align: right;\n",
       "    }\n",
       "</style>\n",
       "<table border=\"1\" class=\"dataframe\">\n",
       "  <thead>\n",
       "    <tr style=\"text-align: right;\">\n",
       "      <th></th>\n",
       "      <th>TV</th>\n",
       "      <th>Radio</th>\n",
       "      <th>Newspaper</th>\n",
       "      <th>Sales</th>\n",
       "    </tr>\n",
       "  </thead>\n",
       "  <tbody>\n",
       "    <tr>\n",
       "      <th>0</th>\n",
       "      <td>230.1</td>\n",
       "      <td>37.8</td>\n",
       "      <td>69.2</td>\n",
       "      <td>22.1</td>\n",
       "    </tr>\n",
       "    <tr>\n",
       "      <th>1</th>\n",
       "      <td>44.5</td>\n",
       "      <td>39.3</td>\n",
       "      <td>45.1</td>\n",
       "      <td>10.4</td>\n",
       "    </tr>\n",
       "    <tr>\n",
       "      <th>2</th>\n",
       "      <td>17.2</td>\n",
       "      <td>45.9</td>\n",
       "      <td>69.3</td>\n",
       "      <td>12.0</td>\n",
       "    </tr>\n",
       "    <tr>\n",
       "      <th>3</th>\n",
       "      <td>151.5</td>\n",
       "      <td>41.3</td>\n",
       "      <td>58.5</td>\n",
       "      <td>16.5</td>\n",
       "    </tr>\n",
       "    <tr>\n",
       "      <th>4</th>\n",
       "      <td>180.8</td>\n",
       "      <td>10.8</td>\n",
       "      <td>58.4</td>\n",
       "      <td>17.9</td>\n",
       "    </tr>\n",
       "  </tbody>\n",
       "</table>\n",
       "</div>"
      ],
      "text/plain": [
       "      TV  Radio  Newspaper  Sales\n",
       "0  230.1   37.8       69.2   22.1\n",
       "1   44.5   39.3       45.1   10.4\n",
       "2   17.2   45.9       69.3   12.0\n",
       "3  151.5   41.3       58.5   16.5\n",
       "4  180.8   10.8       58.4   17.9"
      ]
     },
     "execution_count": 32,
     "metadata": {},
     "output_type": "execute_result"
    }
   ],
   "source": [
    "df.head()"
   ]
  },
  {
   "cell_type": "code",
   "execution_count": 33,
   "metadata": {
    "application/vnd.databricks.v1+cell": {
     "cellMetadata": {
      "byteLimit": 2048000,
      "rowLimit": 10000
     },
     "inputWidgets": {},
     "nuid": "84bb52c7-a4f9-4fa1-b4c2-30a6e3fa5daf",
     "showTitle": false,
     "title": ""
    }
   },
   "outputs": [
    {
     "data": {
      "text/plain": [
       "array([0.05378717, 0.10027874, 0.00789845])"
      ]
     },
     "execution_count": 33,
     "metadata": {},
     "output_type": "execute_result"
    }
   ],
   "source": [
    "model.coef_ \n",
    "# This line retrieves the coefficients of the trained linear regression model, which represent the relationship between each feature and the target variable (Sales).\n",
    "# The coefficients indicate how much the target variable (Sales) is expected to change for a one-unit change in each feature, assuming all other features remain constant.\n",
    "# The output is an array of coefficients, where each coefficient corresponds to a feature in the input data.\n",
    "# A positive coefficient indicates that an increase in that feature is associated with an increase in Sales, while a negative coefficient indicates that an increase in that feature is associated with a decrease in Sales.\n",
    "# The magnitude of the coefficient indicates the strength of the relationship between the feature and Sales, with larger absolute values indicating a stronger relationship.\n",
    "# The coefficients can be interpreted as follows:\n",
    "# - For each unit increase in TV advertising spend, Sales is expected to increase by the value\n",
    "#   of the corresponding coefficient, assuming all other features remain constant.\n",
    "# - For each unit increase in Radio advertising spend, Sales is expected to increase by the value\n",
    "#   of the corresponding coefficient, assuming all other features remain constant.\n",
    "# - For each unit increase in Newspaper advertising spend, Sales is expected to increase by the value\n",
    "#   of the corresponding coefficient, assuming all other features remain constant.\n",
    "# - The intercept (the last value in the array) represents the expected Sales when all advertising\n",
    "#   spends are zero, which is the baseline level of Sales without any advertising."
   ]
  },
  {
   "cell_type": "code",
   "execution_count": 34,
   "metadata": {
    "application/vnd.databricks.v1+cell": {
     "cellMetadata": {
      "byteLimit": 2048000,
      "rowLimit": 10000
     },
     "inputWidgets": {},
     "nuid": "0abf3353-4da1-4bdb-9781-8a562dc76124",
     "showTitle": false,
     "title": ""
    }
   },
   "outputs": [],
   "source": [
    "y_hat=model.predict(X)"
   ]
  },
  {
   "cell_type": "code",
   "execution_count": 35,
   "metadata": {
    "application/vnd.databricks.v1+cell": {
     "cellMetadata": {
      "byteLimit": 2048000,
      "rowLimit": 10000
     },
     "inputWidgets": {},
     "nuid": "9072e0be-76d9-461f-835e-648fa65465d7",
     "showTitle": false,
     "title": ""
    }
   },
   "outputs": [
    {
     "data": {
      "text/plain": [
       "Text(0.5, 1.0, 'Newspaper Spend')"
      ]
     },
     "execution_count": 35,
     "metadata": {},
     "output_type": "execute_result"
    },
    {
     "data": {
      "image/png": "[encoded data removed]",
      "text/plain": [
       "<Figure size 1600x600 with 3 Axes>"
      ]
     },
     "metadata": {},
     "output_type": "display_data"
    }
   ],
   "source": [
    "fig,axes= plt.subplots(nrows=1,ncols=3,figsize=(16,6)) \n",
    "# This creates a figure with 1 row and 3 columns of subplots, allowing for multiple plots to be displayed side by side.\n",
    "# The figsize parameter specifies the size of the entire figure, making it easier to visualize multiple plots\n",
    "# The axes variable is an array of Axes objects, which can be used to plot on\n",
    "# each subplot individually.\n",
    "# This is a common way to visualize multiple related plots in a single figure, making it easier\n",
    "# to compare different aspects of the data or model performance.\n",
    "# This line plots the actual Sales against TV advertising spend, showing the relationship between these two variables\n",
    "# The 'o' marker indicates that the points should be plotted as circles.\n",
    "# The first plot shows the actual Sales data points, while the second plot shows the predicted Sales\n",
    "# based on the linear regression model, allowing for visual comparison between actual and predicted values.\n",
    "\n",
    "axes[0].plot(df['TV'],df['Sales'],'o')\n",
    "axes[0].plot(df['TV'],y_hat,'o',color='red')\n",
    "axes[0].set_ylabel(\"Sales\")\n",
    "axes[0].set_title(\"TV Spend\")\n",
    "\n",
    "axes[1].plot(df['Radio'],df['Sales'],'o')\n",
    "axes[1].plot(df['Radio'],y_hat,'o',color='red')\n",
    "axes[1].set_ylabel(\"Sales\")\n",
    "axes[1].set_title(\"Radio Spend\")\n",
    "\n",
    "axes[2].plot(df['Newspaper'],df['Sales'],'o')\n",
    "axes[2].plot(df['Newspaper'],y_hat,'o',color='red')\n",
    "axes[2].set_ylabel(\"Sales\")\n",
    "axes[2].set_title(\"Newspaper Spend\")"
   ]
  },
  {
   "cell_type": "code",
   "execution_count": 36,
   "metadata": {
    "application/vnd.databricks.v1+cell": {
     "cellMetadata": {
      "byteLimit": 2048000,
      "rowLimit": 10000
     },
     "inputWidgets": {},
     "nuid": "4970df74-f2f5-441d-8f89-6ab935315b75",
     "showTitle": false,
     "title": ""
    }
   },
   "outputs": [],
   "source": [
    "from joblib import dump,load # This line imports the dump and load functions from the joblib library, which are used for saving and loading Python objects, such as trained machine learning models.\n",
    "dump(model,'final_sales_model.joblib') # This line saves the trained model to a file named 'final_sales_model.joblib', allowing it to be reused later without retraining.\n",
    "load_model=load('final_sales_model.joblib') # This line loads the saved model from the file 'final_sales_model.joblib', allowing it to be used for predictions without needing to retrain it.\n"
   ]
  },
  {
   "cell_type": "code",
   "execution_count": 37,
   "metadata": {
    "application/vnd.databricks.v1+cell": {
     "cellMetadata": {
      "byteLimit": 2048000,
      "rowLimit": 10000
     },
     "inputWidgets": {},
     "nuid": "aab0a91c-c757-4cda-9fd3-a31455ba779e",
     "showTitle": false,
     "title": ""
    }
   },
   "outputs": [
    {
     "data": {
      "text/plain": [
       "array([0.05378717, 0.10027874, 0.00789845])"
      ]
     },
     "execution_count": 37,
     "metadata": {},
     "output_type": "execute_result"
    }
   ],
   "source": [
    "load_model.coef_ # This line retrieves the coefficients of the loaded linear regression model, which represent the relationship between each feature and the target variable (Sales)."
   ]
  },
  {
   "cell_type": "code",
   "execution_count": 38,
   "metadata": {
    "application/vnd.databricks.v1+cell": {
     "cellMetadata": {
      "byteLimit": 2048000,
      "rowLimit": 10000
     },
     "inputWidgets": {},
     "nuid": "4f561bc5-9f1d-487b-98b3-23d0d5799c44",
     "showTitle": false,
     "title": ""
    }
   },
   "outputs": [
    {
     "data": {
      "text/plain": [
       "(200, 3)"
      ]
     },
     "execution_count": 38,
     "metadata": {},
     "output_type": "execute_result"
    }
   ],
   "source": [
    "X.shape"
   ]
  },
  {
   "cell_type": "code",
   "execution_count": 39,
   "metadata": {
    "application/vnd.databricks.v1+cell": {
     "cellMetadata": {
      "byteLimit": 2048000,
      "rowLimit": 10000
     },
     "inputWidgets": {},
     "nuid": "809fc9e0-b346-4d81-b1b2-d5f06b541136",
     "showTitle": false,
     "title": ""
    }
   },
   "outputs": [
    {
     "name": "stdout",
     "output_type": "stream",
     "text": [
      "[8.81067523]\n"
     ]
    }
   ],
   "source": [
    "#149 tv, 22 Radio, 12 newspaer\n",
    "#sales ?\n",
    "# Campaign = [[49,12,22]]\n",
    "# load_model.predict(Campaign)\n",
    "\n",
    "Campaign = pd.DataFrame([[49, 12, 22]], columns=['TV', 'Radio', 'Newspaper'])\n",
    "predicted_sales = load_model.predict(Campaign)\n",
    "print(predicted_sales)\n",
    "\n"
   ]
  },
  {
   "cell_type": "markdown",
   "metadata": {
    "application/vnd.databricks.v1+cell": {
     "cellMetadata": {
      "byteLimit": 2048000,
      "rowLimit": 10000
     },
     "inputWidgets": {},
     "nuid": "eb200a03-075d-446d-8eef-c33a2eabf057",
     "showTitle": false,
     "title": ""
    }
   },
   "source": [
    "# Part 3: Advanced Polynomial Regression - Finding the Optimal Degree\n",
    "\n",
    "## 🎯 What We'll Accomplish\n",
    "- **Systematic evaluation**: Test polynomial degrees 1-9 to find the optimal complexity\n",
    "- **PolynomialFeatures mastery**: Transform features into polynomial and interaction terms\n",
    "- **Bias-variance tradeoff**: Visualize underfitting vs overfitting patterns\n",
    "- **Production pipeline**: Save model and transformer for real-world deployment\n",
    "\n",
    "## 🎪 **The Big Question**\n",
    "We know linear regression (degree 1) gives us RMSE = 1.65. But can polynomial regression do better?\n",
    "\n",
    "**Our Systematic Approach:**\n",
    "1. Transform features using `PolynomialFeatures` \n",
    "2. Train models for degrees 1, 2, 3, 4, 5, 6, 7, 8, 9\n",
    "3. Calculate training and test RMSE for each degree\n",
    "4. Plot the results to find the optimal degree\n",
    "5. Build final production model\n",
    "\n",
    "## 💡 **Key Learning Goal**\n",
    "Understand the **bias-variance tradeoff** through empirical evidence:\n",
    "- **Low degrees** → Underfitting (high bias)\n",
    "- **High degrees** → Overfitting (high variance)  \n",
    "- **Sweet spot** → Optimal degree that minimizes test error"
   ]
  },
  {
   "cell_type": "code",
   "execution_count": 40,
   "metadata": {
    "application/vnd.databricks.v1+cell": {
     "cellMetadata": {
      "byteLimit": 2048000,
      "rowLimit": 10000
     },
     "inputWidgets": {},
     "nuid": "8fd9ddaa-91d7-43f3-b2b0-3eea8d5972bf",
     "showTitle": false,
     "title": ""
    }
   },
   "outputs": [
    {
     "name": "stdout",
     "output_type": "stream",
     "text": [
      "Starting polynomial regression analysis...\n",
      "Dataset shape: (200, 4)\n"
     ]
    }
   ],
   "source": [
    "# =============================================================================\n",
    "# PART 3: DATA PREPARATION AND IMPORTS\n",
    "# =============================================================================\n",
    "\n",
    "# Fresh data load for polynomial regression analysis\n",
    "df = pd.read_csv('advertising.csv')\n",
    "print(\"Starting polynomial regression analysis...\")\n",
    "print(f\"Dataset shape: {df.shape}\")\n"
   ]
  },
  {
   "cell_type": "code",
   "execution_count": 41,
   "metadata": {
    "application/vnd.databricks.v1+cell": {
     "cellMetadata": {
      "byteLimit": 2048000,
      "rowLimit": 10000
     },
     "inputWidgets": {},
     "nuid": "e97033b9-d6dc-4740-8c96-e354ee50342f",
     "showTitle": false,
     "title": ""
    }
   },
   "outputs": [
    {
     "name": "stdout",
     "output_type": "stream",
     "text": [
      "Feature preparation for polynomial regression:\n",
      "Original features: ['TV', 'Radio', 'Newspaper']\n",
      "Shape: (200, 3)\n",
      "These 3 features will be expanded into polynomial and interaction terms...\n"
     ]
    }
   ],
   "source": [
    "X = df.drop(['Sales'], axis=1)  # Features: TV, Radio, Newspaper  \n",
    "Y = df['Sales']                 # Target: Sales\n",
    "\n",
    "print(\"Feature preparation for polynomial regression:\")\n",
    "print(f\"Original features: {X.columns.tolist()}\")\n",
    "print(f\"Shape: {X.shape}\")\n",
    "print(\"These 3 features will be expanded into polynomial and interaction terms...\")"
   ]
  },
  {
   "cell_type": "code",
   "execution_count": 42,
   "metadata": {
    "application/vnd.databricks.v1+cell": {
     "cellMetadata": {
      "byteLimit": 2048000,
      "rowLimit": 10000
     },
     "inputWidgets": {},
     "nuid": "e8e12a1e-00b3-4eac-a3b8-56dabf6f898f",
     "showTitle": false,
     "title": ""
    }
   },
   "outputs": [
    {
     "name": "stdout",
     "output_type": "stream",
     "text": [
      "PolynomialFeatures imported - ready to create polynomial and interaction terms!\n"
     ]
    }
   ],
   "source": [
    "# =============================================================================\n",
    "# POLYNOMIAL FEATURES: The Key to Non-Linear Relationships\n",
    "# =============================================================================\n",
    "\n",
    "# Import PolynomialFeatures - the magic that transforms linear regression into polynomial regression\n",
    "from sklearn.preprocessing import PolynomialFeatures\n",
    "from sklearn.model_selection import train_test_split\n",
    "from sklearn.linear_model import LinearRegression  \n",
    "from sklearn.metrics import mean_absolute_error, mean_squared_error\n",
    "\n",
    "print(\"PolynomialFeatures imported - ready to create polynomial and interaction terms!\")"
   ]
  },
  {
   "cell_type": "markdown",
   "metadata": {},
   "source": [
    "*** What is PolynomialFeatures? ***\n",
    "PolynomialFeatures is a preprocessing class from sklearn.preprocessing that transforms your original features into polynomial and interaction features. It's the key tool that enables polynomial regression in scikit-learn.\n",
    "\n",
    "*** Core Purpose: ***\n",
    "PolynomialFeatures takes your simple input features and creates new, more complex features by:\n",
    "\n",
    "- Raising features to higher powers (squared, cubed, etc.)\n",
    "- Creating interaction terms between different features\n",
    "- Optionally adding a bias term (constant)\n",
    "\n",
    "*** How It Works: ***\n",
    "\n",
    "Original Features (degree=1):\n",
    "[TV, Radio, Newspaper]\n",
    "\n",
    "With PolynomialFeatures(degree=2):\n",
    "[TV, Radio, Newspaper, TV², Radio², Newspaper², TV×Radio, TV×Newspaper, Radio×Newspaper]\n",
    "\n",
    "Key Parameters:\n",
    "1. degree: The highest polynomial degree to generate\n",
    "\n",
    "- degree=1: Only original features (linear)\n",
    "- degree=2: Original + squared + interactions\n",
    "- degree=3: Original + squared + cubed + all interactions\n",
    "\n",
    "2. include_bias: Whether to include a constant term\n",
    "\n",
    "- include_bias=True: Adds a column of 1s\n",
    "- include_bias=False: No constant term (usually set to False when using with LinearRegression)\n",
    "\n",
    "*** In essence: PolynomialFeatures is the bridge that lets you use simple linear regression to model complex, non-linear relationships by engineering polynomial features from your original data. ***\n",
    "\n",
    "*** Hyperparameter Tuning: The \"degree\" of the polynomial is a hyperparameter. This loop is a manual form of hyperparameter tuning. The goal is to find the value that minimizes the error on the test set, not the training set. ***"
   ]
  },
  {
   "cell_type": "code",
   "execution_count": 43,
   "metadata": {
    "application/vnd.databricks.v1+cell": {
     "cellMetadata": {
      "byteLimit": 2048000,
      "rowLimit": 10000
     },
     "inputWidgets": {},
     "nuid": "70bb4924-00eb-41e4-a133-6f77af9d490f",
     "showTitle": false,
     "title": ""
    }
   },
   "outputs": [
    {
     "data": {
      "text/plain": [
       "pandas.core.frame.DataFrame"
      ]
     },
     "execution_count": 43,
     "metadata": {},
     "output_type": "execute_result"
    }
   ],
   "source": [
    "type(X)"
   ]
  },
  {
   "cell_type": "code",
   "execution_count": 44,
   "metadata": {
    "application/vnd.databricks.v1+cell": {
     "cellMetadata": {
      "byteLimit": 2048000,
      "rowLimit": 10000
     },
     "inputWidgets": {},
     "nuid": "a231522e-4e70-442d-8e4a-94836d698c3b",
     "showTitle": false,
     "title": ""
    }
   },
   "outputs": [],
   "source": [
    "#poly_2 = PolynomialFeatures(degree=2,include_bias=True)\n",
    "# This line creates an instance of the PolynomialFeatures class with degree 2 and include_bias set to False.\n",
    "# The degree parameter specifies the highest degree of polynomial features to generate, and include_bias=False means\n",
    "# that the model will not include a bias term (intercept) in the polynomial features.\n",
    "# This is useful when you want to create polynomial features without adding an additional constant term to the\n",
    "# feature set, which can be beneficial for certain types of regression models.\n",
    "\n",
    "Poly_Converter = PolynomialFeatures(degree=2,include_bias=False) \n",
    "x_poly_2 = Poly_Converter.fit(X) \n",
    "# This line fits the PolynomialFeatures transformer to the input data X, generating polynomial features up to degree 2.\n",
    "# The fit method learns the polynomial transformation based on the input data, allowing it to transform the\n",
    "# data into a new feature space where each feature is raised to the power of 2,\n",
    "# and interaction terms between features are also included.\n",
    "ploy_features=x_poly_2.transform(X) \n",
    "# This line transforms the input data X into polynomial features using the fitted PolynomialFeatures transformer.   \n",
    "#x_poly_2.transform(X).shape()\n",
    "#X.iloc[0]\n",
    "#ploy_features[0]"
   ]
  },
  {
   "cell_type": "code",
   "execution_count": 45,
   "metadata": {
    "application/vnd.databricks.v1+cell": {
     "cellMetadata": {
      "byteLimit": 2048000,
      "rowLimit": 10000
     },
     "inputWidgets": {},
     "nuid": "f1e272ef-3c9d-4abf-92fe-3010518ce659",
     "showTitle": false,
     "title": ""
    }
   },
   "outputs": [
    {
     "data": {
      "text/plain": [
       "array([2.301000e+02, 3.780000e+01, 6.920000e+01, 5.294601e+04,\n",
       "       8.697780e+03, 1.592292e+04, 1.428840e+03, 2.615760e+03,\n",
       "       4.788640e+03])"
      ]
     },
     "execution_count": 45,
     "metadata": {},
     "output_type": "execute_result"
    }
   ],
   "source": [
    "ploy_features[0]"
   ]
  },
  {
   "cell_type": "markdown",
   "metadata": {},
   "source": [
    "The code `ploy_features[0]` displays the **first row** of the polynomial features after transformation. Let me explain what this shows:\n",
    "\n",
    "What `ploy_features[0]` represents:\n",
    "\n",
    "When you run `PolynomialFeatures(degree=2, include_bias=False)` on your original features `[TV, Radio, Newspaper]`, it creates new polynomial features:\n",
    "\n",
    "Original features (X.iloc[0]):\n"
   ]
  },
  {
   "cell_type": "code",
   "execution_count": 46,
   "metadata": {},
   "outputs": [
    {
     "ename": "SyntaxError",
     "evalue": "invalid syntax. Maybe you meant '==' or ':=' instead of '='? (4006659437.py, line 1)",
     "output_type": "error",
     "traceback": [
      "\u001b[0;36m  Cell \u001b[0;32mIn[46], line 1\u001b[0;36m\u001b[0m\n\u001b[0;31m    TV = 230.1, Radio = 37.8, Newspaper = 69.2\u001b[0m\n\u001b[0m    ^\u001b[0m\n\u001b[0;31mSyntaxError\u001b[0m\u001b[0;31m:\u001b[0m invalid syntax. Maybe you meant '==' or ':=' instead of '='?\n"
     ]
    }
   ],
   "source": [
    "TV = 230.1, Radio = 37.8, Newspaper = 69.2"
   ]
  },
  {
   "cell_type": "markdown",
   "metadata": {},
   "source": [
    "\n",
    "\n",
    "### Transformed polynomial features (ploy_features[0]):\n",
    "The transformation creates these features:\n",
    "1. **Original features**: `TV`, `Radio`, `Newspaper`\n",
    "2. **Squared terms**: `TV²`, `Radio²`, `Newspaper²`  \n",
    "3. **Interaction terms**: `TV×Radio`, `TV×Newspaper`, `Radio×Newspaper`\n",
    "\n",
    "So `ploy_features[0]` will show an array like:\n"
   ]
  },
  {
   "cell_type": "code",
   "execution_count": null,
   "metadata": {},
   "outputs": [],
   "source": [
    "[230.1, 37.8, 69.2, 52946.01, 1428.84, 4788.64, 8697.78, 15924.92, 2615.76]"
   ]
  },
  {
   "cell_type": "markdown",
   "metadata": {},
   "source": [
    "\n",
    "\n",
    "Where:\n",
    "- `230.1` = TV\n",
    "- `37.8` = Radio  \n",
    "- `69.2` = Newspaper\n",
    "- `52946.01` = TV² (230.1²)\n",
    "- `1428.84` = Radio² (37.8²)\n",
    "- `4788.64` = Newspaper² (69.2²)\n",
    "- `8697.78` = TV × Radio (230.1 × 37.8)\n",
    "- `15924.92` = TV × Newspaper (230.1 × 69.2)\n",
    "- `2615.76` = Radio × Newspaper (37.8 × 69.2)\n",
    "\n",
    "This transformation expands your feature space from **3 features** to **9 features**, allowing the linear regression model to capture non-linear relationships and interactions between variables."
   ]
  },
  {
   "cell_type": "code",
   "execution_count": null,
   "metadata": {
    "application/vnd.databricks.v1+cell": {
     "cellMetadata": {
      "byteLimit": 2048000,
      "rowLimit": 10000
     },
     "inputWidgets": {},
     "nuid": "f8834a3c-b560-48b4-b8fb-2a941db4d815",
     "showTitle": false,
     "title": ""
    }
   },
   "outputs": [],
   "source": [
    "X.iloc[0]"
   ]
  },
  {
   "cell_type": "code",
   "execution_count": null,
   "metadata": {
    "application/vnd.databricks.v1+cell": {
     "cellMetadata": {
      "byteLimit": 2048000,
      "rowLimit": 10000
     },
     "inputWidgets": {},
     "nuid": "b3562fe7-8663-44e4-a58e-8943302ded26",
     "showTitle": false,
     "title": ""
    }
   },
   "outputs": [],
   "source": [
    "ploy_features.shape"
   ]
  },
  {
   "cell_type": "code",
   "execution_count": null,
   "metadata": {
    "application/vnd.databricks.v1+cell": {
     "cellMetadata": {
      "byteLimit": 2048000,
      "rowLimit": 10000
     },
     "inputWidgets": {},
     "nuid": "18eb849c-8987-497e-a9f2-47b6a1024591",
     "showTitle": false,
     "title": ""
    }
   },
   "outputs": [],
   "source": [
    "X_train, X_test, y_train, y_test = train_test_split(ploy_features, Y, test_size=0.33, random_state=42)\n",
    "#model_linear = LinearRegression(fit_intercept=True)  # Include bias term\n",
    "model_linear = LinearRegression() \n",
    "model_linear.fit(X_train, y_train)\n",
    "y_pred_linear = model_linear.predict(X_test)"
   ]
  },
  {
   "cell_type": "code",
   "execution_count": null,
   "metadata": {
    "application/vnd.databricks.v1+cell": {
     "cellMetadata": {
      "byteLimit": 2048000,
      "rowLimit": 10000
     },
     "inputWidgets": {},
     "nuid": "920c0689-7a4f-4b4e-8e73-d67cd6105608",
     "showTitle": false,
     "title": ""
    }
   },
   "outputs": [],
   "source": [
    "X_train.shape"
   ]
  },
  {
   "cell_type": "code",
   "execution_count": null,
   "metadata": {
    "application/vnd.databricks.v1+cell": {
     "cellMetadata": {
      "byteLimit": 2048000,
      "rowLimit": 10000
     },
     "inputWidgets": {},
     "nuid": "ff25d677-bc7d-4450-852c-11ed06531faf",
     "showTitle": false,
     "title": ""
    }
   },
   "outputs": [],
   "source": [
    "from sklearn.metrics import mean_absolute_error,mean_squared_error\n",
    "MAE=mean_absolute_error(y_test,y_pred_linear)\n",
    "MSE=mean_squared_error(y_test,y_pred_linear)\n",
    "RMSE=np.sqrt(MSE)\n",
    "RMSE"
   ]
  },
  {
   "cell_type": "code",
   "execution_count": null,
   "metadata": {
    "application/vnd.databricks.v1+cell": {
     "cellMetadata": {
      "byteLimit": 2048000,
      "rowLimit": 10000
     },
     "inputWidgets": {},
     "nuid": "e4232fb0-0522-4397-a32e-529725e09c4c",
     "showTitle": false,
     "title": ""
    }
   },
   "outputs": [],
   "source": [
    "model_linear.coef_"
   ]
  },
  {
   "cell_type": "code",
   "execution_count": null,
   "metadata": {
    "application/vnd.databricks.v1+cell": {
     "cellMetadata": {
      "byteLimit": 2048000,
      "rowLimit": 10000
     },
     "inputWidgets": {},
     "nuid": "c1885b7c-6422-4bd4-8e83-a701933cf7dd",
     "showTitle": false,
     "title": ""
    }
   },
   "outputs": [],
   "source": [
    "ploy_features[0]"
   ]
  },
  {
   "cell_type": "code",
   "execution_count": null,
   "metadata": {
    "application/vnd.databricks.v1+cell": {
     "cellMetadata": {
      "byteLimit": 2048000,
      "rowLimit": 10000
     },
     "inputWidgets": {},
     "nuid": "0d0d4bd2-fc5b-4f70-bb4b-73d218fc5092",
     "showTitle": false,
     "title": ""
    }
   },
   "outputs": [],
   "source": [
    "X.iloc[0]"
   ]
  },
  {
   "cell_type": "markdown",
   "metadata": {
    "application/vnd.databricks.v1+cell": {
     "cellMetadata": {},
     "inputWidgets": {},
     "nuid": "acfe1584-6e16-4b2a-9819-74d5a6d5ad2a",
     "showTitle": false,
     "title": ""
    }
   },
   "source": [
    "###Check the results with regression "
   ]
  },
  {
   "cell_type": "code",
   "execution_count": null,
   "metadata": {
    "application/vnd.databricks.v1+cell": {
     "cellMetadata": {
      "byteLimit": 2048000,
      "rowLimit": 10000
     },
     "inputWidgets": {},
     "nuid": "d297bfc4-28d1-4c6b-be20-35435ab89049",
     "showTitle": false,
     "title": ""
    }
   },
   "outputs": [],
   "source": [
    "model=LinearRegression()\n",
    "from sklearn.model_selection import train_test_split\n",
    "# Split the data into training and testing sets\n",
    "X_trainReg, X_testReg, y_trainReg, y_testReg = train_test_split(X, Y, test_size=0.33, random_state=42)"
   ]
  },
  {
   "cell_type": "code",
   "execution_count": null,
   "metadata": {
    "application/vnd.databricks.v1+cell": {
     "cellMetadata": {
      "byteLimit": 2048000,
      "rowLimit": 10000
     },
     "inputWidgets": {},
     "nuid": "db8f97e3-3f2c-4474-8d54-3cf8bc765a08",
     "showTitle": false,
     "title": ""
    }
   },
   "outputs": [],
   "source": [
    "X_trainReg"
   ]
  },
  {
   "cell_type": "code",
   "execution_count": null,
   "metadata": {
    "application/vnd.databricks.v1+cell": {
     "cellMetadata": {
      "byteLimit": 2048000,
      "rowLimit": 10000
     },
     "inputWidgets": {},
     "nuid": "e8808504-935a-417a-a3a7-7d87ceb24156",
     "showTitle": false,
     "title": ""
    }
   },
   "outputs": [],
   "source": [
    "model.fit(X_trainReg, y_trainReg)\n",
    "y_pred_linearreg = model.predict(X_testReg)"
   ]
  },
  {
   "cell_type": "code",
   "execution_count": null,
   "metadata": {
    "application/vnd.databricks.v1+cell": {
     "cellMetadata": {
      "byteLimit": 2048000,
      "rowLimit": 10000
     },
     "inputWidgets": {},
     "nuid": "16024301-4de7-4f30-9b01-01f0e554cdf5",
     "showTitle": false,
     "title": ""
    }
   },
   "outputs": [],
   "source": [
    "from sklearn.metrics import mean_absolute_error,mean_squared_error\n",
    "MAEreg=mean_absolute_error(y_testReg,y_pred_linearreg)\n",
    "MSEreg=mean_squared_error(y_testReg,y_pred_linearreg)\n",
    "RMSEreg=np.sqrt(MSEreg)\n",
    "RMSEreg"
   ]
  },
  {
   "cell_type": "markdown",
   "metadata": {
    "application/vnd.databricks.v1+cell": {
     "cellMetadata": {},
     "inputWidgets": {},
     "nuid": "83752f27-a10f-4d86-830b-6d40f16f919f",
     "showTitle": false,
     "title": ""
    }
   },
   "source": [
    "###Poly Reg = 1.2 and Regression =1.65\n"
   ]
  },
  {
   "cell_type": "code",
   "execution_count": null,
   "metadata": {
    "application/vnd.databricks.v1+cell": {
     "cellMetadata": {
      "byteLimit": 2048000,
      "rowLimit": 10000
     },
     "inputWidgets": {},
     "nuid": "cd5e85b7-3ed1-4017-8ec6-96935f698c0e",
     "showTitle": false,
     "title": ""
    }
   },
   "outputs": [],
   "source": [
    "import pandas as pd \n",
    "df=pd.read_csv('advertising.csv')\n",
    "X=df.drop(['Sales'],axis=1)\n",
    "Y=df['Sales']"
   ]
  },
  {
   "cell_type": "code",
   "execution_count": null,
   "metadata": {
    "application/vnd.databricks.v1+cell": {
     "cellMetadata": {
      "byteLimit": 2048000,
      "rowLimit": 10000
     },
     "inputWidgets": {},
     "nuid": "8a7c4358-4cf7-4d59-bad1-b67d79b0ae9d",
     "showTitle": false,
     "title": ""
    }
   },
   "outputs": [],
   "source": [
    "X.shape"
   ]
  },
  {
   "cell_type": "code",
   "execution_count": null,
   "metadata": {
    "application/vnd.databricks.v1+cell": {
     "cellMetadata": {
      "byteLimit": 2048000,
      "rowLimit": 10000
     },
     "inputWidgets": {},
     "nuid": "383dd881-fb1a-4fe3-8cec-538ea10b817c",
     "showTitle": false,
     "title": ""
    }
   },
   "outputs": [],
   "source": [
    "from sklearn.model_selection import train_test_split\n",
    "from sklearn.linear_model import LinearRegression\n",
    "from sklearn.metrics import mean_absolute_error,mean_squared_error\n",
    "from sklearn.preprocessing import PolynomialFeatures\n",
    "train_rmse_error=[]\n",
    "test_rmse_error=[]\n",
    "\n",
    "#high degree will take log training time \n",
    "for d in range(1,10):\n",
    "\n",
    "  ploy_converter= PolynomialFeatures(degree=d,include_bias=False)\n",
    "  ploy_features=ploy_converter.fit_transform(X)\n",
    "  X_train, X_test, y_train, y_test = train_test_split(ploy_features, Y, test_size=0.33, random_state=42)\n",
    "\n",
    "  model=LinearRegression()\n",
    "  model.fit(X_train, y_train)\n",
    "\n",
    "  train_predictions= model.predict(X_train)\n",
    "  test_predictions= model.predict(X_test)\n",
    "\n",
    "  train_rmse=np.sqrt(mean_squared_error(y_train,train_predictions))\n",
    "  test_rmse=np.sqrt(mean_squared_error(y_test,test_predictions))\n",
    "\n",
    "  train_rmse_error.append(train_rmse)\n",
    "  test_rmse_error.append(test_rmse)\n",
    "\n",
    "\n"
   ]
  },
  {
   "cell_type": "code",
   "execution_count": null,
   "metadata": {
    "application/vnd.databricks.v1+cell": {
     "cellMetadata": {
      "byteLimit": 2048000,
      "rowLimit": 10000
     },
     "inputWidgets": {},
     "nuid": "f85cf174-e2d1-41f6-bda2-e62ec470df2e",
     "showTitle": false,
     "title": ""
    }
   },
   "outputs": [],
   "source": [
    "train_rmse_error"
   ]
  },
  {
   "cell_type": "code",
   "execution_count": null,
   "metadata": {
    "application/vnd.databricks.v1+cell": {
     "cellMetadata": {
      "byteLimit": 2048000,
      "rowLimit": 10000
     },
     "inputWidgets": {},
     "nuid": "45925b33-a61e-437f-8b7d-c5f0a7c4f4ef",
     "showTitle": false,
     "title": ""
    }
   },
   "outputs": [],
   "source": [
    "test_rmse_error"
   ]
  },
  {
   "cell_type": "code",
   "execution_count": null,
   "metadata": {
    "application/vnd.databricks.v1+cell": {
     "cellMetadata": {
      "byteLimit": 2048000,
      "rowLimit": 10000
     },
     "inputWidgets": {},
     "nuid": "364406a3-aa78-447a-a2f4-3e84b5dbf63d",
     "showTitle": false,
     "title": ""
    }
   },
   "outputs": [],
   "source": [
    "plt.plot(range(1,6),train_rmse_error[:5],label='Train_RMSE')\n",
    "plt.plot(range(1,6),test_rmse_error[:5],label='Test_RMSE')\n",
    "plt.xlabel('Degree_of_Ploy')\n",
    "plt.ylabel('Error')\n",
    "plt.legend()"
   ]
  },
  {
   "cell_type": "markdown",
   "metadata": {},
   "source": [
    "## 🔍 RMSE vs R²: Complete Model Evaluation Framework\n",
    "\n",
    "### **Why We Need Both Metrics:**\n",
    "\n",
    "**RMSE (Root Mean Squared Error):**\n",
    "- **Units**: Same as target variable (dollars in our case)\n",
    "- **Business interpretation**: \"On average, predictions are off by $X.XX\"\n",
    "- **Focus**: Prediction accuracy\n",
    "- **Goal**: Minimize (lower is better)\n",
    "\n",
    "**R² (Coefficient of Determination):**\n",
    "- **Units**: Percentage (0.0 to 1.0)\n",
    "- **Business interpretation**: \"Model explains X% of sales variance\"\n",
    "- **Focus**: Pattern capture\n",
    "- **Goal**: Maximize (higher is better)\n",
    "\n",
    "### **Real-World Scenarios:**\n",
    "\n",
    "**Scenario 1: Low RMSE + High R²** ✅\n",
    "- **Interpretation**: Accurate predictions AND captures most patterns\n",
    "- **Example**: RMSE = $1.2, R² = 0.85\n",
    "- **Action**: Excellent model - ready for production\n",
    "\n",
    "**Scenario 2: High RMSE + Low R²** ❌\n",
    "- **Interpretation**: Inaccurate predictions AND missing key patterns  \n",
    "- **Example**: RMSE = $3.5, R² = 0.25\n",
    "- **Action**: Need different approach (more features, different algorithm)\n",
    "\n",
    "**Scenario 3: Low RMSE + Low R²** 🤔\n",
    "- **Interpretation**: Decent accuracy but missing explainable patterns\n",
    "- **Example**: RMSE = $1.8, R² = 0.45\n",
    "- **Action**: Look for additional features or non-linear relationships\n",
    "\n",
    "**Scenario 4: High RMSE + High R²** 🤔  \n",
    "- **Interpretation**: Captures patterns but poor accuracy (rare scenario)\n",
    "- **Example**: RMSE = $2.8, R² = 0.75\n",
    "- **Action**: Check for outliers or scaling issues\n",
    "\n",
    "### **Our Sweet Spot Analysis:**\n",
    "The plots above help us find the degree where:\n",
    "1. **Test RMSE is minimized** (best prediction accuracy)\n",
    "2. **Test R² is maximized** (best pattern capture)  \n",
    "3. **Both metrics agree** (robust optimal choice)\n",
    "4. **No overfitting** (test metrics don't degrade)"
   ]
  },
  {
   "cell_type": "markdown",
   "metadata": {},
   "source": [
    "This plot illustrates the **Bias-Variance Tradeoff** in polynomial regression and demonstrates the classic pattern of underfitting vs. overfitting. Here's what it shows:\n",
    "\n",
    "- Continuously **decreases** as polynomial degree increases\n",
    "- Starts around 1.7 at degree 1 and drops to about 0.8 at degree 5\n",
    "- This is expected - higher degree polynomials can fit training data more closely\n",
    "\n",
    "- Initially **decreases** from degree 1 to 2 (from ~1.7 to ~1.4)\n",
    "- Reaches **minimum around degree 2-3** (~1.4-1.5)\n",
    "- Then **dramatically increases** from degree 4 onwards, reaching ~7.8 at degree 5\n",
    "\n",
    "1. **Optimal Degree**: The best polynomial degree appears to be **2 or 3**, where test error is minimized\n",
    "\n",
    "2. **Underfitting** (Degree 1): Both training and test errors are relatively high - the model is too simple\n",
    "\n",
    "3. **Overfitting** (Degrees 4-5): Training error continues to decrease while test error explodes - the model memorizes training data but fails on new data\n",
    "\n",
    "4. **Sweet Spot**: Degrees 2-3 provide the best balance between model complexity and generalization"
   ]
  },
  {
   "cell_type": "code",
   "execution_count": null,
   "metadata": {
    "application/vnd.databricks.v1+cell": {
     "cellMetadata": {
      "byteLimit": 2048000,
      "rowLimit": 10000
     },
     "inputWidgets": {},
     "nuid": "af594f3d-2c99-4a0f-b0fc-db7eeff26289",
     "showTitle": false,
     "title": ""
    }
   },
   "outputs": [],
   "source": [
    "Final_Poly_Converter = PolynomialFeatures(degree=3,include_bias=False)\n",
    "Full_Converter= Final_Poly_Converter.fit_transform(X)\n",
    "Final_model=LinearRegression()\n",
    "Final_model.fit(Full_Converter,Y)"
   ]
  },
  {
   "cell_type": "code",
   "execution_count": null,
   "metadata": {},
   "outputs": [],
   "source": [
    "Full_Converter[0]"
   ]
  },
  {
   "cell_type": "markdown",
   "metadata": {},
   "source": [
    "Feature Combinations for `PolynomialFeatures(degree=3, include_bias=False)`\n",
    "\n",
    "Let me show you exactly how the features are built for degree=3 with your advertising data:\n",
    "\n",
    "Original Features:\n",
    "```\n",
    "[TV, Radio, Newspaper]\n",
    "```\n",
    "\n",
    "Complete Feature Transformation for Degree=3:\n",
    "\n",
    "````python\n",
    "Final_Poly_Converter = PolynomialFeatures(degree=3, include_bias=False)\n",
    "# This creates 19 features total from your original 3 features\n",
    "````\n",
    "\n",
    "**All 19 Generated Features:**\n",
    "\n",
    "**1. Original Features (degree=1):**\n",
    "```\n",
    "1. TV\n",
    "2. Radio  \n",
    "3. Newspaper\n",
    "```\n",
    "\n",
    "**2. Squared Terms (degree=2):**\n",
    "```\n",
    "4. TV²\n",
    "5. Radio²\n",
    "6. Newspaper²\n",
    "```\n",
    "\n",
    "**3. Two-way Interactions (degree=2):**\n",
    "```\n",
    "7. TV × Radio\n",
    "8. TV × Newspaper\n",
    "9. Radio × Newspaper\n",
    "```\n",
    "\n",
    "**4. Cubic Terms (degree=3):**\n",
    "```\n",
    "10. TV³\n",
    "11. Radio³\n",
    "12. Newspaper³\n",
    "```\n",
    "\n",
    "**5. Three-way Interactions (degree=3):**\n",
    "```\n",
    "13. TV² × Radio\n",
    "14. TV² × Newspaper\n",
    "15. TV × Radio²\n",
    "16. Radio² × Newspaper\n",
    "17. TV × Newspaper²\n",
    "18. Radio × Newspaper²\n",
    "19. TV × Radio × Newspaper\n",
    "```\n",
    "\n",
    "**Example with Real Data:**\n",
    "\n",
    "For the first row: `TV=230.1, Radio=37.8, Newspaper=69.2`\n",
    "\n",
    "````python\n",
    "# Original values\n",
    "TV, Radio, Newspaper = 230.1, 37.8, 69.2\n",
    "\n",
    "# The 19 features would be:\n",
    "features = [\n",
    "    230.1,                    # TV\n",
    "    37.8,                     # Radio\n",
    "    69.2,                     # Newspaper\n",
    "    230.1**2,                 # TV² = 52,946.01\n",
    "    37.8**2,                  # Radio² = 1,428.84\n",
    "    69.2**2,                  # Newspaper² = 4,788.64\n",
    "    230.1 * 37.8,             # TV×Radio = 8,697.78\n",
    "    230.1 * 69.2,             # TV×Newspaper = 15,924.92\n",
    "    37.8 * 69.2,              # Radio×Newspaper = 2,615.76\n",
    "    230.1**3,                 # TV³ = 12,182,850.30\n",
    "    37.8**3,                  # Radio³ = 54,010.15\n",
    "    69.2**3,                  # Newspaper³ = 331,373.89\n",
    "    (230.1**2) * 37.8,        # TV²×Radio = 2,001,751.18\n",
    "    (230.1**2) * 69.2,        # TV²×Newspaper = 3,663,903.89\n",
    "    230.1 * (37.8**2),        # TV×Radio² = 328,770.76\n",
    "    (37.8**2) * 69.2,         # Radio²×Newspaper = 98,875.25\n",
    "    230.1 * (69.2**2),        # TV×Newspaper² = 1,102,002.13\n",
    "    37.8 * (69.2**2),         # Radio×Newspaper² = 180,994.58\n",
    "    230.1 * 37.8 * 69.2       # TV×Radio×Newspaper = 601,727.74\n",
    "]\n",
    "````\n",
    "\n",
    "**Shape Transformation:**\n",
    "```\n",
    "Original shape: (200, 3)    # 200 samples, 3 features\n",
    "After degree=3: (200, 19)   # 200 samples, 19 features\n",
    "```\n",
    "\n",
    "**Mathematical Formula:**\n",
    "The general formula for number of features with degree `d` and `n` original features is:\n",
    "```\n",
    "Number of features = C(n+d, d) - include_bias\n",
    "For n=3, d=3, include_bias=False: C(3+3, 3) = C(6,3) = 20 - 1 = 19 features\n",
    "```\n",
    "\n",
    "**Why This Works:**\n",
    "- **Non-linear relationships**: `TV²`, `Radio²` capture diminishing returns\n",
    "- **Feature interactions**: `TV×Radio` captures synergy between channels  \n",
    "- **Complex patterns**: `TV²×Radio` captures how TV's squared effect varies with Radio spend\n",
    "- **Three-way synergy**: `TV×Radio×Newspaper` captures combined effect of all three channels\n",
    "\n",
    "This transformation allows your linear model to capture very complex, non-linear relationships while still using simple linear regression mathematics!"
   ]
  },
  {
   "cell_type": "code",
   "execution_count": null,
   "metadata": {
    "application/vnd.databricks.v1+cell": {
     "cellMetadata": {
      "byteLimit": 2048000,
      "rowLimit": 10000
     },
     "inputWidgets": {},
     "nuid": "b2b3a98c-e04b-4682-926c-678002cc1293",
     "showTitle": false,
     "title": ""
    }
   },
   "outputs": [],
   "source": [
    "type(Final_Poly_Converter)"
   ]
  },
  {
   "cell_type": "code",
   "execution_count": null,
   "metadata": {
    "application/vnd.databricks.v1+cell": {
     "cellMetadata": {
      "byteLimit": 2048000,
      "rowLimit": 10000
     },
     "inputWidgets": {},
     "nuid": "77e85835-e66a-47bd-a149-c87756a98f91",
     "showTitle": false,
     "title": ""
    }
   },
   "outputs": [],
   "source": [
    "from joblib import dump,load\n",
    "dump(Final_model,'Final_model.joblib')\n"
   ]
  },
  {
   "cell_type": "code",
   "execution_count": null,
   "metadata": {
    "application/vnd.databricks.v1+cell": {
     "cellMetadata": {
      "byteLimit": 2048000,
      "rowLimit": 10000
     },
     "inputWidgets": {},
     "nuid": "b3509007-4a57-4510-a8a0-4e2792b3db5d",
     "showTitle": false,
     "title": ""
    }
   },
   "outputs": [],
   "source": [
    "dump(Final_Poly_Converter,'Final_Converter.joblib')"
   ]
  },
  {
   "cell_type": "code",
   "execution_count": null,
   "metadata": {
    "application/vnd.databricks.v1+cell": {
     "cellMetadata": {
      "byteLimit": 2048000,
      "rowLimit": 10000
     },
     "inputWidgets": {},
     "nuid": "7be9d334-2c08-4322-ae07-4a2debc0f1d0",
     "showTitle": false,
     "title": ""
    }
   },
   "outputs": [],
   "source": [
    "loaded_Converter= load('Final_Converter.joblib')\n",
    "loaded_model= load('Final_model.joblib')"
   ]
  },
  {
   "cell_type": "code",
   "execution_count": null,
   "metadata": {
    "application/vnd.databricks.v1+cell": {
     "cellMetadata": {
      "byteLimit": 2048000,
      "rowLimit": 10000
     },
     "inputWidgets": {},
     "nuid": "c7fa84b2-49ad-4b81-8afb-9a788ce061b9",
     "showTitle": false,
     "title": ""
    }
   },
   "outputs": [],
   "source": [
    "Campaign=[[149,22,12]]"
   ]
  },
  {
   "cell_type": "code",
   "execution_count": null,
   "metadata": {
    "application/vnd.databricks.v1+cell": {
     "cellMetadata": {
      "byteLimit": 2048000,
      "rowLimit": 10000
     },
     "inputWidgets": {},
     "nuid": "a4cfc991-6ed7-4ee8-a281-e2ab08c57346",
     "showTitle": false,
     "title": ""
    }
   },
   "outputs": [],
   "source": [
    "type(loaded_Converter)"
   ]
  },
  {
   "cell_type": "code",
   "execution_count": null,
   "metadata": {
    "application/vnd.databricks.v1+cell": {
     "cellMetadata": {
      "byteLimit": 2048000,
      "rowLimit": 10000
     },
     "inputWidgets": {},
     "nuid": "640f45cb-cd7e-47ab-9079-96b288a50002",
     "showTitle": false,
     "title": ""
    }
   },
   "outputs": [],
   "source": [
    "from sklearn.preprocessing import PolynomialFeatures\n",
    "loaded_Converter.fit_transform(Campaign)"
   ]
  },
  {
   "cell_type": "code",
   "execution_count": null,
   "metadata": {
    "application/vnd.databricks.v1+cell": {
     "cellMetadata": {
      "byteLimit": 2048000,
      "rowLimit": 10000
     },
     "inputWidgets": {},
     "nuid": "57e3153b-15f6-4534-a826-0394071fc44c",
     "showTitle": false,
     "title": ""
    }
   },
   "outputs": [],
   "source": [
    "a=loaded_Converter.fit_transform(Campaign)\n",
    "a.shape"
   ]
  },
  {
   "cell_type": "code",
   "execution_count": null,
   "metadata": {
    "application/vnd.databricks.v1+cell": {
     "cellMetadata": {
      "byteLimit": 2048000,
      "rowLimit": 10000
     },
     "inputWidgets": {},
     "nuid": "3fbb2013-d466-4901-8ff4-cc05e4b80208",
     "showTitle": false,
     "title": ""
    }
   },
   "outputs": [],
   "source": [
    "loaded_model.predict(a)"
   ]
  },
  {
   "cell_type": "markdown",
   "metadata": {},
   "source": [
    "### Part 4: Best Approach for Production-Ready Models\n",
    "\n",
    "Key Production Best Practices:\n",
    "\n",
    "1. Always start with LinearRegression as baseline\n",
    "2. Use cross-validation for degree selection\n",
    "3. Monitor for overfitting with validation curves\n",
    "4. Save preprocessing pipeline with the model\n",
    "5. Document feature engineering for model maintenance\n",
    "6. A/B test new models against current production model\n",
    "\n",
    "When to Choose Each:\n",
    "- LinearRegression: When you need maximum interpretability and the relationship is truly linear\n",
    "- PolynomialFeatures: When you suspect non-linear relationships and interactions matter (like in advertising effectiveness)"
   ]
  },
  {
   "cell_type": "code",
   "execution_count": null,
   "metadata": {},
   "outputs": [],
   "source": [
    "# 1. START SIMPLE - Baseline Model\n",
    "linear_model = LinearRegression()\n",
    "linear_rmse = evaluate_model(linear_model, X, y)  # Baseline: 1.65\n",
    "\n",
    "# 2. SYSTEMATIC POLYNOMIAL EXPLORATION\n",
    "best_degree = find_optimal_degree(X, y, max_degree=5)  # Found: degree 2-3\n",
    "\n",
    "# 3. BUILD FINAL MODEL\n",
    "poly_converter = PolynomialFeatures(degree=best_degree, include_bias=False)\n",
    "X_poly = poly_converter.fit_transform(X_train)\n",
    "final_model = LinearRegression()\n",
    "final_model.fit(X_poly, y_train)\n",
    "\n",
    "# 4. VALIDATE ON UNSEEN DATA\n",
    "test_rmse = evaluate_model(final_model, X_test_poly, y_test)\n",
    "\n",
    "# Save both transformer and model for consistent predictions\n",
    "from joblib import dump\n",
    "\n",
    "# ✅ Correct approach\n",
    "dump(poly_converter, 'polynomial_transformer.joblib')\n",
    "dump(final_model, 'final_model.joblib')\n",
    "\n",
    "# For new predictions:\n",
    "def predict_sales(campaign_data):\n",
    "    poly_features = poly_converter.transform(campaign_data)  # Only transform!\n",
    "    return final_model.predict(poly_features)"
   ]
  },
  {
   "cell_type": "markdown",
   "metadata": {},
   "source": [
    "### Why Cross-Validation is Better for Degree Selection\n",
    "\n",
    "**Problem with Single Train/Test Split:**\n",
    "- Our current approach uses only one random split (random_state=42)\n",
    "- Results might be biased by this particular split\n",
    "- We might get lucky/unlucky with our test set\n",
    "\n",
    "**Cross-Validation Solution:**\n",
    "- Uses multiple train/test splits (e.g., 5-fold CV)\n",
    "- Averages performance across all folds\n",
    "- More reliable estimate of true model performance\n",
    "- Reduces variance in degree selection\n",
    "\n",
    "**Production Recommendation:**\n",
    "```python\n",
    "from sklearn.model_selection import cross_val_score\n",
    "# Use this instead of single split for degree selection\n",
    "cv_scores = cross_val_score(model, X_poly, y, cv=5, scoring='neg_mean_squared_error')\n",
    "```"
   ]
  },
  {
   "cell_type": "markdown",
   "metadata": {},
   "source": [
    "### Regularization: A Solution to High-Degree Overfitting\n",
    "\n",
    "**The Problem We Just Saw:**\n",
    "- Degrees 4+ showed severe overfitting (test error exploded to ~7.8)\n",
    "- Higher-degree polynomials create very large coefficient values\n",
    "- Model becomes extremely sensitive to small changes in data\n",
    "\n",
    "**Regularization Solutions:**\n",
    "\n",
    "**Ridge Regression (L2):**\n",
    "- Penalizes large coefficients: `Cost = MSE + α×Σ(coefficients²)`\n",
    "- Keeps all features but shrinks coefficients toward zero\n",
    "- Good when all features are somewhat relevant\n",
    "\n",
    "**Lasso Regression (L1):**\n",
    "- Penalizes absolute values: `Cost = MSE + α×Σ|coefficients|`\n",
    "- Can set some coefficients exactly to zero (feature selection)\n",
    "- Good when only some polynomial features are truly important\n",
    "\n",
    "**When to Use:**\n",
    "- Always consider regularization for polynomial degree > 2\n",
    "- Allows you to use higher degrees safely\n",
    "- α (alpha) parameter controls regularization strength"
   ]
  },
  {
   "cell_type": "markdown",
   "metadata": {},
   "source": [
    "### Critical Production Issue: Feature Scaling\n",
    "\n",
    "**Look at the Scale Differences in Our Features:**\n",
    "```\n",
    "TV = 230.1              (hundreds)\n",
    "TV² = 52,946.01         (tens of thousands)  \n",
    "TV³ = 12,182,850.30     (millions!)\n",
    "TV×Radio×Newspaper = 601,727.74 (hundreds of thousands)\n",
    "```\n",
    "\n",
    "**The Problem:**\n",
    "- Polynomial features create vastly different magnitudes\n",
    "- TV³ is 50,000+ times larger than original TV value\n",
    "- Linear regression coefficients become tiny for large features\n",
    "- Model becomes numerically unstable\n",
    "- Gradient descent struggles to converge\n",
    "\n",
    "**Production Solution - Always Scale:**\n",
    "```python\n",
    "from sklearn.preprocessing import StandardScaler\n",
    "from sklearn.pipeline import Pipeline\n",
    "\n",
    "# Proper production pipeline\n",
    "pipeline = Pipeline([\n",
    "    ('poly', PolynomialFeatures(degree=3, include_bias=False)),\n",
    "    ('scaler', StandardScaler()),  # Scale after polynomial transformation\n",
    "    ('model', LinearRegression())\n",
    "])\n",
    "```\n",
    "\n",
    "**Why This Matters:**\n",
    "- Prevents numerical instability\n",
    "- Ensures all features contribute equally to learning\n",
    "- Makes coefficient interpretation more meaningful\n",
    "- Required for regularization to work properly"
   ]
  },
  {
   "cell_type": "markdown",
   "metadata": {},
   "source": [
    "# 🎯 Summary: Polynomial Regression Learning Journey\n",
    "\n",
    "## 🏆 **Key Accomplishments**\n",
    "\n",
    "### **Part 1: NumPy Foundation**\n",
    "✅ **Linear vs Cubic Comparison**: Implemented manual polynomial regression using `np.polyfit()`  \n",
    "✅ **Visualization Skills**: Created effective plots comparing different polynomial degrees  \n",
    "✅ **Mathematical Understanding**: Learned polynomial equations and coefficient interpretation\n",
    "\n",
    "### **Part 2: Professional Sklearn Workflow** \n",
    "✅ **Baseline Established**: Linear regression RMSE = 1.65 (our benchmark to beat)  \n",
    "✅ **Proper Evaluation**: Train/test split, residual analysis, model diagnostics  \n",
    "✅ **Production Ready**: Model persistence, coefficient interpretation, prediction pipeline\n",
    "\n",
    "### **Part 3: Advanced Polynomial Analysis**\n",
    "✅ **Optimal Degree Found**: Degree 2-3 provides best balance (RMSE ≈ 1.2)  \n",
    "✅ **Overfitting Detected**: Degrees 4+ show test error explosion  \n",
    "✅ **Feature Engineering**: 3 → 19 features with interaction terms  \n",
    "✅ **Production Pipeline**: Saved transformer + model for deployment\n",
    "\n",
    "## 📊 **Performance Summary**\n",
    "| Model Type | RMSE | Improvement | Notes |\n",
    "|------------|------|-------------|-------|\n",
    "| Linear Regression | 1.65 | Baseline | Simple, interpretable |\n",
    "| Polynomial (Degree 2-3) | 1.20 | **27% better** | Optimal complexity |\n",
    "| Polynomial (Degree 4+) | 7.8+ | **Worse** | Overfitting |\n",
    "\n",
    "## 🧠 **Key Insights Learned**\n",
    "\n",
    "### **Bias-Variance Tradeoff in Action**\n",
    "- **Underfitting** (Degree 1): Too simple, misses patterns\n",
    "- **Sweet Spot** (Degree 2-3): Captures patterns without overfitting  \n",
    "- **Overfitting** (Degree 4+): Memorizes noise, fails on new data\n",
    "\n",
    "### **Production Considerations**\n",
    "- **Feature Scaling**: Essential for high-degree polynomials\n",
    "- **Model Persistence**: Save both transformer AND model\n",
    "- **Cross-Validation**: More robust than single train/test split\n",
    "- **Regularization**: Ridge/Lasso for high-degree polynomials\n",
    "\n",
    "## 🚀 **Next Steps for Advanced Learning**\n",
    "\n",
    "### **Immediate Implementations**\n",
    "1. **Cross-Validation**: Replace single split with k-fold CV for degree selection\n",
    "2. **Feature Scaling**: Add `StandardScaler` to the pipeline  \n",
    "3. **Regularization**: Try Ridge/Lasso regression for high degrees\n",
    "4. **Pipeline Integration**: Combine all preprocessing in sklearn Pipeline\n",
    "\n",
    "### **Advanced Topics to Explore**\n",
    "1. **Spline Regression**: Piecewise polynomials for better flexibility\n",
    "2. **Kernel Methods**: SVM with polynomial kernels\n",
    "3. **Ensemble Methods**: Random Forest, Gradient Boosting\n",
    "4. **Neural Networks**: Deep learning for non-linear relationships\n",
    "\n",
    "### **Production Deployment**\n",
    "1. **API Development**: Flask/FastAPI for model serving\n",
    "2. **Monitoring**: Track model performance over time\n",
    "3. **A/B Testing**: Compare polynomial vs linear in production\n",
    "4. **Feature Engineering**: Domain-specific polynomial terms\n",
    "\n",
    "## 💡 **Key Takeaway**\n",
    "*\"Always start simple (linear regression) and add complexity (polynomial features) only if it improves performance on unseen data. The bias-variance tradeoff is fundamental to machine learning success.\"*"
   ]
  }
 ],
 "metadata": {
  "application/vnd.databricks.v1+notebook": {
   "dashboards": [],
   "environmentMetadata": null,
   "language": "python",
   "notebookMetadata": {
    "pythonIndentUnit": 2
   },
   "notebookName": "Regression & Poly_Reg",
   "widgets": {}
  },
  "kernelspec": {
   "display_name": "base",
   "language": "python",
   "name": "python3"
  },
  "language_info": {
   "codemirror_mode": {
    "name": "ipython",
    "version": 3
   },
   "file_extension": ".py",
   "mimetype": "text/x-python",
   "name": "python",
   "nbconvert_exporter": "python",
   "pygments_lexer": "ipython3",
   "version": "3.12.7"
  }
 },
 "nbformat": 4,
 "nbformat_minor": 4
}
