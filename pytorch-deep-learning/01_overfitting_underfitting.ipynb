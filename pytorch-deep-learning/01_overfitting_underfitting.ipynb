{
  "cells": [
    {
      "cell_type": "code",
      "execution_count": null,
      "metadata": {
        "id": "i2q0xbxVymRF"
      },
      "outputs": [],
      "source": [
        "# Jayampathy Balasuriya - COMScDS242P-009@student.nibm.lk\n",
        "# 02-08-2025"
      ]
    },
    {
      "cell_type": "markdown",
      "metadata": {
        "id": "5kYcOU29ymRH"
      },
      "source": [
        "# Introduction\n",
        "\n",
        "This notebook explains the concepts of overfitting and underfitting, common issues encountered when training machine learning and deep learning models."
      ]
    },
    {
      "cell_type": "code",
      "execution_count": 1,
      "metadata": {
        "id": "TOe72lMQymRI"
      },
      "outputs": [],
      "source": [
        "import torch\n",
        "import torch.nn as nn\n",
        "import torch.optim as optim\n",
        "import numpy as np\n",
        "import matplotlib.pyplot as plt"
      ]
    },
    {
      "cell_type": "code",
      "execution_count": 2,
      "metadata": {
        "id": "tVBIqCLnymRI"
      },
      "outputs": [],
      "source": [
        "# Seed for reproducibility\n",
        "np.random.seed(0)\n",
        "_ = torch.manual_seed(0)"
      ]
    },
    {
      "cell_type": "code",
      "execution_count": 3,
      "metadata": {
        "id": "BUHHBhU-ymRI",
        "outputId": "a8007d49-9e03-49e7-dd50-8189cdfb10f9",
        "colab": {
          "base_uri": "https://localhost:8080/",
          "height": 472
        }
      },
      "outputs": [
        {
          "output_type": "display_data",
          "data": {
            "text/plain": [
              "<Figure size 640x480 with 1 Axes>"
            ],
            "image/png": "[encoded data removed]"
          },
          "metadata": {}
        }
      ],
      "source": [
        "# Generate quadratic data with noise\n",
        "def generate_data(n_samples=100):\n",
        "    X = np.linspace(-10, 10, n_samples)\n",
        "    y = 0.5 * X**2 + 3 * X + 10 + np.random.randn(n_samples) * 10  # Quadratic pattern with noise\n",
        "    return X, y\n",
        "\n",
        "X, y = generate_data()\n",
        "\n",
        "# Plot the generated data\n",
        "plt.scatter(X, y, label='Data points')\n",
        "plt.title('Quadratic Data with Noise')\n",
        "plt.xlabel('X')\n",
        "plt.ylabel('y')\n",
        "plt.legend()\n",
        "plt.show()"
      ]
    },
    {
      "cell_type": "code",
      "execution_count": null,
      "metadata": {
        "id": "68f0DLjDymRJ"
      },
      "outputs": [],
      "source": [
        "# Simple Linear Model\n",
        "class LinearModel(nn.Module):\n",
        "    def __init__(self):\n",
        "        super(LinearModel, self).__init__()\n",
        "        self.linear = nn.Linear(1, 1)\n",
        "\n",
        "    def forward(self, x):\n",
        "        return self.linear(x)\n"
      ]
    },
    {
      "cell_type": "code",
      "execution_count": null,
      "metadata": {
        "id": "RHwpOmLSymRJ"
      },
      "outputs": [],
      "source": [
        "class OverfittingModel(nn.Module):\n",
        "    def __init__(self):\n",
        "        super(OverfittingModel, self).__init__()\n",
        "        self.fc1 = nn.Linear(1, 1024)\n",
        "        self.fc2 = nn.Linear(1024, 512)\n",
        "        self.fc3 = nn.Linear(512, 128)\n",
        "        self.fc4 = nn.Linear(128, 32)\n",
        "        self.fc5 = nn.Linear(32, 1)\n",
        "\n",
        "    def forward(self, x):\n",
        "        x = torch.relu(self.fc1(x))\n",
        "        x = torch.relu(self.fc2(x))\n",
        "        x = torch.relu(self.fc3(x))\n",
        "        x = torch.relu(self.fc4(x))\n",
        "        return self.fc5(x)"
      ]
    },
    {
      "cell_type": "code",
      "execution_count": null,
      "metadata": {
        "id": "qxwuyk4zymRJ"
      },
      "outputs": [],
      "source": [
        "def train_model(model, X_train, y_train, num_epochs=1000, learning_rate=0.001):\n",
        "    criterion = nn.MSELoss()\n",
        "    optimizer = optim.Adam(model.parameters(), lr=learning_rate)\n",
        "    X_train = torch.tensor(X_train, dtype=torch.float32).unsqueeze(1)\n",
        "    y_train = torch.tensor(y_train, dtype=torch.float32).unsqueeze(1)\n",
        "\n",
        "    for epoch in range(num_epochs):\n",
        "        model.train()\n",
        "        outputs = model(X_train)\n",
        "        loss = criterion(outputs, y_train)\n",
        "\n",
        "        optimizer.zero_grad()\n",
        "        loss.backward()\n",
        "        optimizer.step()\n",
        "\n",
        "    return model"
      ]
    },
    {
      "cell_type": "code",
      "execution_count": null,
      "metadata": {
        "id": "KO5bZC9lymRJ"
      },
      "outputs": [],
      "source": [
        "def plot_model(model, X, y, title):\n",
        "    model.eval()\n",
        "    X_tensor = torch.tensor(X, dtype=torch.float32).unsqueeze(1)\n",
        "    with torch.no_grad():\n",
        "        y_pred = model(X_tensor).numpy()\n",
        "\n",
        "    plt.scatter(X, y, label='Data points')\n",
        "    plt.plot(X, y_pred, color='red', label='Model prediction')\n",
        "    plt.title(title)\n",
        "    plt.xlabel('X')\n",
        "    plt.ylabel('y')\n",
        "    plt.legend()\n",
        "    plt.show()"
      ]
    },
    {
      "cell_type": "code",
      "execution_count": null,
      "metadata": {
        "id": "qftHR_0UymRK"
      },
      "outputs": [],
      "source": [
        "# Underfitting model\n",
        "linear_model = LinearModel()\n",
        "linear_model = train_model(linear_model, X, y, num_epochs=1000)\n",
        "\n",
        "# Plot results for underfitting model\n",
        "plot_model(linear_model, X, y, 'Underfitting Model (Linear Regression)')"
      ]
    },
    {
      "cell_type": "code",
      "execution_count": null,
      "metadata": {
        "id": "a63DjTiGymRK"
      },
      "outputs": [],
      "source": [
        "# Overfitting model\n",
        "overfitting_model = OverfittingModel()\n",
        "overfitting_model = train_model(overfitting_model, X, y, num_epochs=1000)\n",
        "\n",
        "# Plot results for overfitting model\n",
        "plot_model(overfitting_model, X, y, 'Overfitting Model (Deep Neural Network)')"
      ]
    },
    {
      "cell_type": "code",
      "execution_count": null,
      "metadata": {
        "id": "3OM4xDCoymRK"
      },
      "outputs": [],
      "source": [
        "class IdealModel(nn.Module):\n",
        "    def __init__(self):\n",
        "        super(IdealModel, self).__init__()\n",
        "        self.fc1 = nn.Linear(1, 32)\n",
        "        self.fc2 = nn.Linear(32, 32)\n",
        "        self.fc3 = nn.Linear(32, 1)\n",
        "\n",
        "    def forward(self, x):\n",
        "        x = torch.relu(self.fc1(x))\n",
        "        x = torch.relu(self.fc2(x))\n",
        "        return self.fc3(x)"
      ]
    },
    {
      "cell_type": "code",
      "execution_count": null,
      "metadata": {
        "id": "moUmr4f6ymRK"
      },
      "outputs": [],
      "source": [
        "# Ideal model\n",
        "ideal_model = IdealModel()\n",
        "ideal_model = train_model(ideal_model, X, y, num_epochs=1000)\n",
        "\n",
        "plot_model(ideal_model, X, y, 'Ideal Model (Polynomial Regression)')"
      ]
    },
    {
      "cell_type": "markdown",
      "metadata": {
        "id": "pJ56PoGSymRK"
      },
      "source": [
        "# Exercise"
      ]
    },
    {
      "cell_type": "code",
      "execution_count": null,
      "metadata": {
        "id": "Qcub-dZhymRK"
      },
      "outputs": [],
      "source": [
        "# Exercise 1 - Change the number of epochs in the OverfittingModel and find the right epochs that reduces the overfitting issue"
      ]
    },
    {
      "cell_type": "code",
      "execution_count": null,
      "metadata": {
        "id": "UPACGqcYymRK"
      },
      "outputs": [],
      "source": [
        "# Exercise 2 - Change the number of neurons in the hidden layers of the OverfittingModel and find the right model architecture that reduces the overfitting issue"
      ]
    },
    {
      "cell_type": "code",
      "execution_count": null,
      "metadata": {
        "id": "suBFgdocymRK"
      },
      "outputs": [],
      "source": [
        "# Exercise 3 - Change the layers of the OverfittingModel and find the right model architecture that reduces the overfitting issue"
      ]
    },
    {
      "cell_type": "code",
      "execution_count": null,
      "metadata": {
        "id": "QQHdxl4TymRK"
      },
      "outputs": [],
      "source": [
        "# Exercise 4 - Find advanced regularization techniques and apply those techniques to the\n",
        "# same OverfittingModel (i.e., do not change the original OverfittingModel's architecture) and derive a better model\n",
        "# with the help of the advanced regularization techniques"
      ]
    }
  ],
  "metadata": {
    "kernelspec": {
      "display_name": "pytorch_env",
      "language": "python",
      "name": "python3"
    },
    "language_info": {
      "codemirror_mode": {
        "name": "ipython",
        "version": 3
      },
      "file_extension": ".py",
      "mimetype": "text/x-python",
      "name": "python",
      "nbconvert_exporter": "python",
      "pygments_lexer": "ipython3",
      "version": "3.10.14"
    },
    "colab": {
      "provenance": []
    }
  },
  "nbformat": 4,
  "nbformat_minor": 0
}