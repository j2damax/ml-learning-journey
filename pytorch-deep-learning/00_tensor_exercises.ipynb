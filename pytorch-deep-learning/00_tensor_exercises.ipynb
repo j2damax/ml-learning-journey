{
  "cells": [
    {
      "cell_type": "code",
      "execution_count": 1,
      "metadata": {
        "id": "tK5ZDXPaXMd1"
      },
      "outputs": [],
      "source": [
        "# Jayampathy Balasuriya - COMScDS242P-009@student.nibm.lk\n",
        "# 17-7-2025"
      ]
    },
    {
      "cell_type": "code",
      "source": [
        "import torch"
      ],
      "metadata": {
        "id": "7S9Y52SRo-MV"
      },
      "execution_count": 2,
      "outputs": []
    },
    {
      "cell_type": "markdown",
      "metadata": {
        "id": "kmg17aRGXMd3"
      },
      "source": [
        "# Tensor Exercises"
      ]
    },
    {
      "cell_type": "markdown",
      "metadata": {
        "id": "C0OCXMjlXMd3"
      },
      "source": [
        "# 1. Tensor Creation"
      ]
    },
    {
      "cell_type": "code",
      "execution_count": 3,
      "metadata": {
        "colab": {
          "base_uri": "https://localhost:8080/"
        },
        "id": "WzpOkQG2XMd4",
        "outputId": "28c1f493-c15f-411b-bcdf-db008a0f5585"
      },
      "outputs": [
        {
          "output_type": "stream",
          "name": "stdout",
          "text": [
            "tensor([[0.3741, 0.6848, 0.4528],\n",
            "        [0.8574, 0.7010, 0.7310],\n",
            "        [0.4453, 0.0719, 0.3491],\n",
            "        [0.8789, 0.5652, 0.1197],\n",
            "        [0.0942, 0.3120, 0.1334]])\n"
          ]
        }
      ],
      "source": [
        "# Create a tensor of shape (5, 3) filled with random values.\n",
        "tensor = torch.rand(5, 3) # 5 rows and 3 columns\n",
        "print(tensor)"
      ]
    },
    {
      "cell_type": "code",
      "execution_count": 4,
      "metadata": {
        "colab": {
          "base_uri": "https://localhost:8080/"
        },
        "id": "w1Aq1LpWXMd4",
        "outputId": "b798ae41-95db-4a72-dbb2-8f8b1106595e"
      },
      "outputs": [
        {
          "output_type": "stream",
          "name": "stdout",
          "text": [
            "tensor([[1., 1., 1., 1.],\n",
            "        [1., 1., 1., 1.]])\n"
          ]
        }
      ],
      "source": [
        "# Create a tensor of shape (2, 4) filled with ones.\n",
        "tensor = torch.ones(2,4)\n",
        "print(tensor)"
      ]
    },
    {
      "cell_type": "code",
      "execution_count": 5,
      "metadata": {
        "colab": {
          "base_uri": "https://localhost:8080/"
        },
        "id": "YlWrjl6JXMd4",
        "outputId": "2059074f-ebdb-4573-e2fa-cc5daa6bae12"
      },
      "outputs": [
        {
          "output_type": "stream",
          "name": "stdout",
          "text": [
            "tensor([ 5, 10, 15, 20])\n"
          ]
        }
      ],
      "source": [
        "# Create a tensor from a list [5, 10, 15, 20].\n",
        "tensor = torch.tensor([5, 10, 15, 20])\n",
        "print(tensor)"
      ]
    },
    {
      "cell_type": "code",
      "execution_count": 6,
      "metadata": {
        "colab": {
          "base_uri": "https://localhost:8080/"
        },
        "id": "iBp_3Z3IXMd4",
        "outputId": "01df409d-533b-4c4f-9efd-dd8dbb663225"
      },
      "outputs": [
        {
          "output_type": "stream",
          "name": "stdout",
          "text": [
            "tensor([[[0, 8, 4, 0, 8, 4, 0, 0],\n",
            "         [2, 8, 8, 8, 5, 5, 5, 0],\n",
            "         [8, 5, 5, 9, 8, 7, 0, 4],\n",
            "         [2, 1, 7, 0, 8, 9, 2, 1],\n",
            "         [6, 9, 2, 8, 7, 5, 4, 6],\n",
            "         [9, 0, 2, 8, 1, 4, 0, 4]],\n",
            "\n",
            "        [[5, 4, 2, 3, 6, 4, 3, 7],\n",
            "         [0, 9, 8, 9, 8, 7, 1, 8],\n",
            "         [2, 3, 6, 4, 9, 5, 7, 4],\n",
            "         [6, 5, 1, 7, 3, 6, 7, 7],\n",
            "         [5, 2, 5, 8, 3, 0, 4, 9],\n",
            "         [2, 1, 3, 6, 3, 6, 2, 8]],\n",
            "\n",
            "        [[0, 0, 1, 9, 4, 4, 2, 2],\n",
            "         [3, 7, 3, 9, 0, 3, 4, 6],\n",
            "         [8, 1, 6, 9, 7, 0, 9, 6],\n",
            "         [9, 4, 2, 4, 0, 1, 6, 4],\n",
            "         [9, 0, 3, 5, 5, 6, 6, 4],\n",
            "         [3, 6, 9, 4, 0, 9, 2, 8]]])\n"
          ]
        }
      ],
      "source": [
        "# Create a tensor to represent an image that has width of 8, height of 6, and 3 channels.\n",
        "tensor = torch.randint(0, 10, (3, 6, 8))\n",
        "print(tensor)"
      ]
    },
    {
      "cell_type": "markdown",
      "metadata": {
        "id": "txql1KIGXMd4"
      },
      "source": [
        "# 2. Tensor Indexing and Slicing"
      ]
    },
    {
      "cell_type": "code",
      "execution_count": 7,
      "metadata": {
        "colab": {
          "base_uri": "https://localhost:8080/"
        },
        "id": "ORdlO-InXMd4",
        "outputId": "14580853-6c95-4094-86ca-5b6a195235ef"
      },
      "outputs": [
        {
          "output_type": "stream",
          "name": "stdout",
          "text": [
            "tensor([[10, 11, 12, 13],\n",
            "        [14, 15, 16, 17],\n",
            "        [18, 19, 20, 21]])\n"
          ]
        }
      ],
      "source": [
        "# Create a tensor tensor of shape (3, 4) with values ranging from 10 to 22.\n",
        "tensor = torch.arange(10, 22).reshape(3, 4)\n",
        "print(tensor)\n"
      ]
    },
    {
      "cell_type": "code",
      "execution_count": 8,
      "metadata": {
        "colab": {
          "base_uri": "https://localhost:8080/"
        },
        "id": "toNqjgIVXMd5",
        "outputId": "a33fce72-c0d1-46b6-fa0f-ead73bc65f94"
      },
      "outputs": [
        {
          "output_type": "stream",
          "name": "stdout",
          "text": [
            "tensor(16)\n"
          ]
        }
      ],
      "source": [
        "# Access the element at the second row, third column.\n",
        "print(tensor[1, 2]) # 0 index row and column"
      ]
    },
    {
      "cell_type": "code",
      "execution_count": 9,
      "metadata": {
        "colab": {
          "base_uri": "https://localhost:8080/"
        },
        "id": "GOxkCn3TXMd5",
        "outputId": "7371c126-b95b-46d0-a1d0-e765e2a08925"
      },
      "outputs": [
        {
          "output_type": "stream",
          "name": "stdout",
          "text": [
            "tensor([14, 15, 16, 17])\n"
          ]
        }
      ],
      "source": [
        "# Print the second row.\n",
        "print(tensor[1])"
      ]
    },
    {
      "cell_type": "code",
      "execution_count": 10,
      "metadata": {
        "colab": {
          "base_uri": "https://localhost:8080/"
        },
        "id": "CO4dVee4XMd5",
        "outputId": "75096d00-87bb-43ec-f893-22995e506456"
      },
      "outputs": [
        {
          "output_type": "stream",
          "name": "stdout",
          "text": [
            "tensor([[10, 11],\n",
            "        [14, 15],\n",
            "        [18, 19]])\n"
          ]
        }
      ],
      "source": [
        "# Print the first two columns.\n",
        "print(tensor[:, 0:2])"
      ]
    },
    {
      "cell_type": "markdown",
      "metadata": {
        "id": "ilhJkMSOXMd5"
      },
      "source": [
        "# 3. Tensor Arithmetic Operations"
      ]
    },
    {
      "cell_type": "code",
      "execution_count": 11,
      "metadata": {
        "colab": {
          "base_uri": "https://localhost:8080/"
        },
        "id": "CA0VKX1oXMd5",
        "outputId": "98e271f0-27c5-41fc-9fdb-c269bca4392e"
      },
      "outputs": [
        {
          "output_type": "stream",
          "name": "stdout",
          "text": [
            "tensor([[3, 6, 8],\n",
            "        [3, 4, 1],\n",
            "        [2, 3, 0]])\n",
            "tensor([[3, 0, 1],\n",
            "        [3, 2, 8],\n",
            "        [0, 5, 2]])\n"
          ]
        }
      ],
      "source": [
        "# Create two tensors tensor_a and tensor_b of shape (3, 3) with random int values values.\n",
        "tensor_a = torch.randint(0, 10, (3, 3))\n",
        "tensor_b = torch.randint(0, 10, (3, 3))\n",
        "print(tensor_a)\n",
        "print(tensor_b)"
      ]
    },
    {
      "cell_type": "code",
      "execution_count": 12,
      "metadata": {
        "colab": {
          "base_uri": "https://localhost:8080/"
        },
        "id": "etAyhJwjXMd5",
        "outputId": "a54716fc-8577-4607-a27c-ad41a51483c4"
      },
      "outputs": [
        {
          "output_type": "stream",
          "name": "stdout",
          "text": [
            "tensor([[6, 6, 9],\n",
            "        [6, 6, 9],\n",
            "        [2, 8, 2]])\n"
          ]
        }
      ],
      "source": [
        "# Perform element-wise addition.\n",
        "print(tensor_a + tensor_b)"
      ]
    },
    {
      "cell_type": "code",
      "execution_count": 13,
      "metadata": {
        "colab": {
          "base_uri": "https://localhost:8080/"
        },
        "id": "fLoQXzDcXMd5",
        "outputId": "d753c39e-05b0-4231-9c11-d5c7e89b98bb"
      },
      "outputs": [
        {
          "output_type": "stream",
          "name": "stdout",
          "text": [
            "tensor([[ 9,  0,  8],\n",
            "        [ 9,  8,  8],\n",
            "        [ 0, 15,  0]])\n"
          ]
        }
      ],
      "source": [
        "# Perform element-wise multiplication.\n",
        "print(tensor_a * tensor_b)"
      ]
    },
    {
      "cell_type": "code",
      "execution_count": 14,
      "metadata": {
        "colab": {
          "base_uri": "https://localhost:8080/"
        },
        "id": "usuiC4zZXMd5",
        "outputId": "1806fbcb-dca8-44a8-dfda-888a62478ec8"
      },
      "outputs": [
        {
          "output_type": "stream",
          "name": "stdout",
          "text": [
            "tensor([[ 0,  6,  7],\n",
            "        [ 0,  2, -7],\n",
            "        [ 2, -2, -2]])\n"
          ]
        }
      ],
      "source": [
        "# Subtract tensor_b from tensor_a.\n",
        "print(tensor_a - tensor_b)"
      ]
    },
    {
      "cell_type": "markdown",
      "metadata": {
        "id": "tOZnP-1RXMd5"
      },
      "source": [
        "# 4. Tensor Aggregation Operations"
      ]
    },
    {
      "cell_type": "code",
      "execution_count": 15,
      "metadata": {
        "colab": {
          "base_uri": "https://localhost:8080/"
        },
        "id": "O2NfDI70XMd5",
        "outputId": "592bc0bf-22a1-44f3-def8-82577880a950"
      },
      "outputs": [
        {
          "output_type": "stream",
          "name": "stdout",
          "text": [
            "tensor([[1, 2, 3],\n",
            "        [4, 5, 6],\n",
            "        [7, 8, 9]])\n"
          ]
        }
      ],
      "source": [
        "# Create a tensor tensor of shape (3, 3) with values ranging from 1 to 9.\n",
        "tensor = torch.arange(1, 10).reshape(3, 3)\n",
        "print(tensor)"
      ]
    },
    {
      "cell_type": "code",
      "execution_count": 16,
      "metadata": {
        "colab": {
          "base_uri": "https://localhost:8080/"
        },
        "id": "6QU1M4h_XMd5",
        "outputId": "c3198a5f-a461-4f2b-f495-f85e885f4dfb"
      },
      "outputs": [
        {
          "output_type": "stream",
          "name": "stdout",
          "text": [
            "tensor(45)\n"
          ]
        }
      ],
      "source": [
        "# Compute the sum of all elements.\n",
        "print(tensor.sum())"
      ]
    },
    {
      "cell_type": "code",
      "execution_count": 17,
      "metadata": {
        "colab": {
          "base_uri": "https://localhost:8080/"
        },
        "id": "YlBZDcATXMd6",
        "outputId": "c8c613f2-acc5-45f2-b91f-843b0f5df33e"
      },
      "outputs": [
        {
          "output_type": "stream",
          "name": "stdout",
          "text": [
            "tensor(5.)\n"
          ]
        }
      ],
      "source": [
        "# Compute the mean of all elements.\n",
        "print(tensor.float().mean())"
      ]
    },
    {
      "cell_type": "code",
      "execution_count": 18,
      "metadata": {
        "colab": {
          "base_uri": "https://localhost:8080/"
        },
        "id": "pLiGcNnvXMd6",
        "outputId": "54eb83d8-8000-4b0c-cb52-efb01e68c917"
      },
      "outputs": [
        {
          "output_type": "stream",
          "name": "stdout",
          "text": [
            "tensor(9)\n",
            "tensor(1)\n"
          ]
        }
      ],
      "source": [
        "# Find the maximum and minimum values.\n",
        "print(tensor.max())\n",
        "print(tensor.min())"
      ]
    },
    {
      "cell_type": "code",
      "execution_count": 19,
      "metadata": {
        "colab": {
          "base_uri": "https://localhost:8080/"
        },
        "id": "vGgeFl9tXMd6",
        "outputId": "df0852ec-e176-4d4b-a809-05c5ebc88ffc"
      },
      "outputs": [
        {
          "output_type": "stream",
          "name": "stdout",
          "text": [
            "tensor([ 6, 15, 24])\n"
          ]
        }
      ],
      "source": [
        "# Compute the sum along the rows.\n",
        "print(tensor.sum(dim=1))"
      ]
    },
    {
      "cell_type": "code",
      "execution_count": 20,
      "metadata": {
        "colab": {
          "base_uri": "https://localhost:8080/"
        },
        "id": "acvfPrX-XMd6",
        "outputId": "7ca1ef08-750f-4190-9c40-121a3a46edc6"
      },
      "outputs": [
        {
          "output_type": "stream",
          "name": "stdout",
          "text": [
            "tensor([4., 5., 6.])\n"
          ]
        }
      ],
      "source": [
        "# Compute the mean along the columns.\n",
        "print(tensor.float().mean(dim=0))"
      ]
    },
    {
      "cell_type": "markdown",
      "metadata": {
        "id": "Tz3Eg9N2XMd6"
      },
      "source": [
        "# 5. Tensor Reshaping Operations"
      ]
    },
    {
      "cell_type": "code",
      "execution_count": 21,
      "metadata": {
        "colab": {
          "base_uri": "https://localhost:8080/"
        },
        "id": "RpMLWIUOXMd6",
        "outputId": "bce7d9b6-4e96-44e8-fa77-485a0af82a4e"
      },
      "outputs": [
        {
          "output_type": "stream",
          "name": "stdout",
          "text": [
            "tensor([[[5, 0, 2, 5],\n",
            "         [9, 7, 7, 6],\n",
            "         [4, 7, 4, 5]],\n",
            "\n",
            "        [[3, 2, 3, 2],\n",
            "         [4, 5, 1, 3],\n",
            "         [2, 8, 9, 2]]])\n"
          ]
        }
      ],
      "source": [
        "# Create a tensor tensor of shape (2, 3, 4) with random values.\n",
        "tensor = torch.randint(0,10, (2, 3, 4))\n",
        "print(tensor)"
      ]
    },
    {
      "cell_type": "code",
      "execution_count": 22,
      "metadata": {
        "colab": {
          "base_uri": "https://localhost:8080/"
        },
        "id": "UFeh3SgTXMd6",
        "outputId": "fd98ed88-d27d-4c70-9340-0e5b4fb09031"
      },
      "outputs": [
        {
          "output_type": "stream",
          "name": "stdout",
          "text": [
            "tensor([[5, 0, 2, 5, 9, 7],\n",
            "        [7, 6, 4, 7, 4, 5],\n",
            "        [3, 2, 3, 2, 4, 5],\n",
            "        [1, 3, 2, 8, 9, 2]])\n"
          ]
        }
      ],
      "source": [
        "# Reshape the tensor to (4, 6).\n",
        "print(tensor.reshape(4, 6))"
      ]
    },
    {
      "cell_type": "code",
      "execution_count": 23,
      "metadata": {
        "colab": {
          "base_uri": "https://localhost:8080/"
        },
        "id": "TOJd8rhfXMd6",
        "outputId": "c16e94b9-29b0-4752-a581-d81b703b34eb"
      },
      "outputs": [
        {
          "output_type": "stream",
          "name": "stdout",
          "text": [
            "tensor([[5, 0, 2, 5],\n",
            "        [9, 7, 7, 6],\n",
            "        [4, 7, 4, 5]])\n",
            "tensor([[3, 2, 3, 2],\n",
            "        [4, 5, 1, 3],\n",
            "        [2, 8, 9, 2]])\n",
            "tensor([[[5, 0, 2, 5],\n",
            "         [3, 2, 3, 2]],\n",
            "\n",
            "        [[9, 7, 7, 6],\n",
            "         [4, 5, 1, 3]],\n",
            "\n",
            "        [[4, 7, 4, 5],\n",
            "         [2, 8, 9, 2]]])\n"
          ]
        }
      ],
      "source": [
        "# Transpose the tensor (swap the first and second dimensions).\n",
        "\n",
        "# print the tensor 0 dimension\n",
        "print(tensor[0])\n",
        "# print the tensor 1 dimension\n",
        "print(tensor[1])\n",
        "\n",
        "print(tensor.transpose(0, 1))"
      ]
    },
    {
      "cell_type": "markdown",
      "source": [
        "Let's understand how this works:\n",
        "\n",
        "tensor: This is the tensor you created earlier with the shape (2, 3, 4). It has three dimensions.\n",
        ".transpose(0, 1): This is a PyTorch method that swaps two specified dimensions of the tensor. In this case, it's swapping the dimension at index 0 with the dimension at index 1.\n",
        "So, if your original tensor has a shape of (dimension 0, dimension 1, dimension 2), transposing dimensions 0 and 1 will result in a new tensor with the shape (dimension 1, dimension 0, dimension 2).\n",
        "\n",
        "In your specific example, the original tensor has a shape of (2, 3, 4). After transpose(0, 1), the resulting tensor will have a shape of (3, 2, 4). The elements are rearranged so that what was in the first dimension is now in the second, and vice versa."
      ],
      "metadata": {
        "id": "NV8T34swtfxZ"
      }
    },
    {
      "cell_type": "code",
      "execution_count": 24,
      "metadata": {
        "colab": {
          "base_uri": "https://localhost:8080/"
        },
        "id": "qUIF60JJXMd6",
        "outputId": "e6bd5e6e-eeed-4ef4-961f-6a17663ed55d"
      },
      "outputs": [
        {
          "output_type": "stream",
          "name": "stdout",
          "text": [
            "tensor([5, 0, 2, 5, 9, 7, 7, 6, 4, 7, 4, 5, 3, 2, 3, 2, 4, 5, 1, 3, 2, 8, 9, 2])\n"
          ]
        }
      ],
      "source": [
        "# Flatten the tensor to a 1D tensor.\n",
        "print(tensor.flatten())"
      ]
    },
    {
      "cell_type": "markdown",
      "metadata": {
        "id": "P-XB0vQ-XMd6"
      },
      "source": [
        "# 6. Tensor Broadcasting"
      ]
    },
    {
      "cell_type": "code",
      "execution_count": 25,
      "metadata": {
        "colab": {
          "base_uri": "https://localhost:8080/"
        },
        "id": "hzf7eQa2XMd6",
        "outputId": "d6d175f5-c01d-4b65-ba9e-4e9b1952b9fb"
      },
      "outputs": [
        {
          "output_type": "stream",
          "name": "stdout",
          "text": [
            "tensor([[1, 2, 3],\n",
            "        [4, 5, 6]])\n"
          ]
        }
      ],
      "source": [
        "# Create a tensor tensor_a of shape (2, 3) with values ranging from 1 to 6.\n",
        "tensor_a = torch.arange(1, 7).reshape(2, 3)\n",
        "print(tensor_a)"
      ]
    },
    {
      "cell_type": "code",
      "execution_count": 26,
      "metadata": {
        "colab": {
          "base_uri": "https://localhost:8080/"
        },
        "id": "0WtxABAlXMd6",
        "outputId": "7b0e00a4-58ad-4559-d745-deb2a05cd4cc"
      },
      "outputs": [
        {
          "output_type": "stream",
          "name": "stdout",
          "text": [
            "tensor([1, 2, 3])\n"
          ]
        }
      ],
      "source": [
        "# Create a tensor tensor_b of shape (1, 3) with values [1, 2, 3].\n",
        "tensor_b = torch.tensor([1, 2, 3])\n",
        "print(tensor_b)"
      ]
    },
    {
      "cell_type": "code",
      "execution_count": 27,
      "metadata": {
        "colab": {
          "base_uri": "https://localhost:8080/"
        },
        "id": "d3A548coXMd6",
        "outputId": "72f652da-3a09-4684-e854-dda396fd9184"
      },
      "outputs": [
        {
          "output_type": "stream",
          "name": "stdout",
          "text": [
            "tensor([[2, 4, 6],\n",
            "        [5, 7, 9]])\n"
          ]
        }
      ],
      "source": [
        "# Perform broadcasting addition.\n",
        "print(tensor_a + tensor_b)"
      ]
    },
    {
      "cell_type": "code",
      "execution_count": 28,
      "metadata": {
        "colab": {
          "base_uri": "https://localhost:8080/"
        },
        "id": "D3OzEMw1XMd6",
        "outputId": "4a28fab1-6ed3-4d51-a56a-89543ef4cf00"
      },
      "outputs": [
        {
          "output_type": "stream",
          "name": "stdout",
          "text": [
            "tensor([[1],\n",
            "        [2],\n",
            "        [3]])\n"
          ]
        }
      ],
      "source": [
        "# Create a tensor tensor_c of shape (3, 1) with values [1, 2, 3].\n",
        "tensor_c = torch.tensor([[1], [2], [3]])\n",
        "print(tensor_c)"
      ]
    },
    {
      "cell_type": "code",
      "execution_count": 30,
      "metadata": {
        "colab": {
          "base_uri": "https://localhost:8080/"
        },
        "id": "p1YJKFW2XMd7",
        "outputId": "8d808db1-bd54-4e6f-9894-3e22e2b28663"
      },
      "outputs": [
        {
          "output_type": "stream",
          "name": "stdout",
          "text": [
            "tensor([[ 1,  4,  9],\n",
            "        [ 4, 10, 18]])\n"
          ]
        }
      ],
      "source": [
        "# Perform broadcasting multiplication.\n",
        "print(tensor_a * tensor_b)"
      ]
    },
    {
      "cell_type": "markdown",
      "metadata": {
        "id": "uHQPe2bPXMd7"
      },
      "source": [
        "# 7. Tensor Device Management"
      ]
    },
    {
      "cell_type": "code",
      "execution_count": 2,
      "metadata": {
        "colab": {
          "base_uri": "https://localhost:8080/"
        },
        "id": "i_arRGlGXMd7",
        "outputId": "37fe36df-6312-404f-8acb-17b45b5bb944"
      },
      "outputs": [
        {
          "output_type": "stream",
          "name": "stdout",
          "text": [
            "tensor([[0.8258, 0.7219, 0.6414],\n",
            "        [0.9845, 0.1028, 0.0528],\n",
            "        [0.0563, 0.9363, 0.7374]])\n"
          ]
        }
      ],
      "source": [
        "# Create a tensor of shape (3, 3) with random values and move it to GPU (if available).\n",
        "tensor = torch.rand(3,3)\n",
        "print(tensor)"
      ]
    },
    {
      "cell_type": "code",
      "execution_count": null,
      "metadata": {
        "id": "LqixfNT1XMd7"
      },
      "outputs": [],
      "source": [
        "# Verify if the tensor is on GPU.\n",
        "# Move the tensor back to CPU."
      ]
    },
    {
      "cell_type": "markdown",
      "metadata": {
        "id": "KS_oTVGWXMd7"
      },
      "source": [
        "# 8. Tensor Cloning and Detaching"
      ]
    },
    {
      "cell_type": "code",
      "execution_count": 5,
      "metadata": {
        "colab": {
          "base_uri": "https://localhost:8080/"
        },
        "id": "7CFixPyBXMeI",
        "outputId": "1397d861-1db7-4124-ef1e-07b5768b7bcb"
      },
      "outputs": [
        {
          "output_type": "stream",
          "name": "stdout",
          "text": [
            "tensor([[1.],\n",
            "        [2.],\n",
            "        [3.]], requires_grad=True)\n"
          ]
        }
      ],
      "source": [
        "# Create a tensor tensor of shape (3,) with values [1, 2, 3] and set requires_grad=True.\n",
        "tensor = torch.tensor([[1.0], [2.0], [3.0]], requires_grad=True)\n",
        "print(tensor)"
      ]
    },
    {
      "cell_type": "markdown",
      "source": [
        "When you set requires_grad=True for a tensor, you are telling PyTorch to track all operations performed on that tensor. This is essential for calculating gradients during the backpropagation phase of training neural networks.\n",
        "\n",
        "In simpler terms:\n",
        "\n",
        "Tracking Operations: PyTorch builds a computation graph in the background as you perform operations on tensors with requires_grad=True. This graph records how the output of an operation was computed from its inputs.\n",
        "Gradient Calculation: After you perform a forward pass (computing the output of your model), you can call the .backward() method on the output tensor. PyTorch then uses the computation graph to automatically calculate the gradients of the output with respect to the input tensors that have requires_grad=True.\n",
        "This is fundamental for training models because gradient descent and other optimization algorithms rely on these gradients to update the model's parameters (which are typically tensors with requires_grad=True) and minimize the loss function.\n",
        "\n",
        "In the context of your example, setting requires_grad=True on the tensor means that if you were to perform further operations on this tensor and then call .backward() on the final result, PyTorch would be able to calculate the gradient of that result with respect to this original tensor."
      ],
      "metadata": {
        "id": "I6aaFfVSVqni"
      }
    },
    {
      "cell_type": "code",
      "execution_count": 6,
      "metadata": {
        "colab": {
          "base_uri": "https://localhost:8080/"
        },
        "id": "yIpCe-pRXMeI",
        "outputId": "511dadd3-4037-4ff6-e854-ed6a7c16e7ad"
      },
      "outputs": [
        {
          "output_type": "stream",
          "name": "stdout",
          "text": [
            "tensor([[1.],\n",
            "        [2.],\n",
            "        [3.]], grad_fn=<CloneBackward0>)\n"
          ]
        }
      ],
      "source": [
        "# Clone the tensor and print the cloned tensor.\n",
        "cloned_tensor = tensor.clone()\n",
        "print(cloned_tensor)"
      ]
    },
    {
      "cell_type": "code",
      "execution_count": 7,
      "metadata": {
        "colab": {
          "base_uri": "https://localhost:8080/"
        },
        "id": "enHrdfKSXMeI",
        "outputId": "c8ca62f5-6015-4be6-ec36-c09770a93563"
      },
      "outputs": [
        {
          "output_type": "stream",
          "name": "stdout",
          "text": [
            "tensor([[1.],\n",
            "        [2.],\n",
            "        [3.]])\n"
          ]
        }
      ],
      "source": [
        "# Detach the tensor from the computation graph and print the detached tensor.\n",
        "detached_tensor = tensor.detach()\n",
        "print(detached_tensor)"
      ]
    },
    {
      "cell_type": "markdown",
      "metadata": {
        "id": "cze-KyDFXMeI"
      },
      "source": [
        "# 9. High Dimensional Tensors"
      ]
    },
    {
      "cell_type": "code",
      "execution_count": 8,
      "metadata": {
        "colab": {
          "base_uri": "https://localhost:8080/"
        },
        "id": "93d8Pd7UXMeJ",
        "outputId": "1ee371a6-9ef0-44f2-c917-70826e5d04a9"
      },
      "outputs": [
        {
          "output_type": "stream",
          "name": "stdout",
          "text": [
            "tensor([[[[0.3168, 0.0350, 0.4393, 0.4678, 0.8654],\n",
            "          [0.8073, 0.2970, 0.2523, 0.4506, 0.8626],\n",
            "          [0.4004, 0.1775, 0.2699, 0.7478, 0.5480],\n",
            "          [0.2711, 0.7475, 0.8193, 0.4575, 0.2122]],\n",
            "\n",
            "         [[0.3492, 0.8130, 0.5617, 0.0230, 0.9386],\n",
            "          [0.4573, 0.2428, 0.9297, 0.2131, 0.2522],\n",
            "          [0.7214, 0.8602, 0.8291, 0.1014, 0.8952],\n",
            "          [0.3062, 0.4652, 0.7291, 0.3265, 0.9205]],\n",
            "\n",
            "         [[0.5730, 0.7389, 0.3276, 0.8817, 0.8999],\n",
            "          [0.7690, 0.6805, 0.7639, 0.0084, 0.6544],\n",
            "          [0.7010, 0.4528, 0.3284, 0.0602, 0.9200],\n",
            "          [0.0963, 0.4011, 0.2398, 0.1469, 0.1650]]],\n",
            "\n",
            "\n",
            "        [[[0.7665, 0.2168, 0.6868, 0.4246, 0.5621],\n",
            "          [0.1351, 0.0740, 0.8869, 0.1666, 0.7082],\n",
            "          [0.2451, 0.4497, 0.0547, 0.7272, 0.6907],\n",
            "          [0.0739, 0.1089, 0.5502, 0.1549, 0.9050]],\n",
            "\n",
            "         [[0.7532, 0.5375, 0.3175, 0.6618, 0.1881],\n",
            "          [0.8770, 0.4594, 0.2216, 0.0816, 0.7655],\n",
            "          [0.9471, 0.6633, 0.3773, 0.6388, 0.4646],\n",
            "          [0.8437, 0.0693, 0.1821, 0.2832, 0.9711]],\n",
            "\n",
            "         [[0.3534, 0.1846, 0.4370, 0.5753, 0.0203],\n",
            "          [0.2977, 0.6389, 0.2997, 0.9604, 0.1976],\n",
            "          [0.7055, 0.0608, 0.1127, 0.6244, 0.6033],\n",
            "          [0.2805, 0.8862, 0.3841, 0.5831, 0.4555]]]])\n"
          ]
        }
      ],
      "source": [
        "# Create a 4D tensor tensor of shape (2, 3, 4, 5) with random values.\n",
        "tensor = torch.rand(2, 3, 4, 5)\n",
        "print(tensor)"
      ]
    },
    {
      "cell_type": "code",
      "execution_count": 11,
      "metadata": {
        "colab": {
          "base_uri": "https://localhost:8080/"
        },
        "id": "OJxv6fWQXMeJ",
        "outputId": "e499befa-fa03-4ddb-9261-19075278c0b0"
      },
      "outputs": [
        {
          "output_type": "stream",
          "name": "stdout",
          "text": [
            "torch.Size([2, 3, 4, 5])\n",
            "torch.Size([2, 3, 4, 5])\n"
          ]
        }
      ],
      "source": [
        "# Print the shape of the tensor.\n",
        "print(tensor.shape)\n",
        "print(tensor.size())"
      ]
    },
    {
      "cell_type": "code",
      "execution_count": 10,
      "metadata": {
        "colab": {
          "base_uri": "https://localhost:8080/"
        },
        "id": "ylqjQhxkXMeJ",
        "outputId": "d634e82b-a0c4-4559-f69a-f2b3309d33c3"
      },
      "outputs": [
        {
          "output_type": "stream",
          "name": "stdout",
          "text": [
            "tensor(0.4555)\n"
          ]
        }
      ],
      "source": [
        "# Access the element at position (1, 2, 3, 4).\n",
        "print(tensor[1, 2, 3, 4])"
      ]
    },
    {
      "cell_type": "code",
      "execution_count": 13,
      "metadata": {
        "colab": {
          "base_uri": "https://localhost:8080/"
        },
        "id": "FikKzXJiXMeJ",
        "outputId": "2de4d7d0-6c78-4fd9-8c5e-8042f40a401c"
      },
      "outputs": [
        {
          "output_type": "stream",
          "name": "stdout",
          "text": [
            "tensor([[[[0.3168, 0.0350, 0.4393, 0.4678, 0.8654],\n",
            "          [0.8073, 0.2970, 0.2523, 0.4506, 0.8626],\n",
            "          [0.4004, 0.1775, 0.2699, 0.7478, 0.5480],\n",
            "          [0.2711, 0.7475, 0.8193, 0.4575, 0.2122]],\n",
            "\n",
            "         [[0.3492, 0.8130, 0.5617, 0.0230, 0.9386],\n",
            "          [0.4573, 0.2428, 0.9297, 0.2131, 0.2522],\n",
            "          [0.7214, 0.8602, 0.8291, 0.1014, 0.8952],\n",
            "          [0.3062, 0.4652, 0.7291, 0.3265, 0.9205]],\n",
            "\n",
            "         [[0.5730, 0.7389, 0.3276, 0.8817, 0.8999],\n",
            "          [0.7690, 0.6805, 0.7639, 0.0084, 0.6544],\n",
            "          [0.7010, 0.4528, 0.3284, 0.0602, 0.9200],\n",
            "          [0.0963, 0.4011, 0.2398, 0.1469, 0.1650]]],\n",
            "\n",
            "\n",
            "        [[[0.7665, 0.2168, 0.6868, 0.4246, 0.5621],\n",
            "          [0.1351, 0.0740, 0.8869, 0.1666, 0.7082],\n",
            "          [0.2451, 0.4497, 0.0547, 0.7272, 0.6907],\n",
            "          [0.0739, 0.1089, 0.5502, 0.1549, 0.9050]],\n",
            "\n",
            "         [[0.7532, 0.5375, 0.3175, 0.6618, 0.1881],\n",
            "          [0.8770, 0.4594, 0.2216, 0.0816, 0.7655],\n",
            "          [0.9471, 0.6633, 0.3773, 0.6388, 0.4646],\n",
            "          [0.8437, 0.0693, 0.1821, 0.2832, 0.9711]],\n",
            "\n",
            "         [[0.3534, 0.1846, 0.4370, 0.5753, 0.0203],\n",
            "          [0.2977, 0.6389, 0.2997, 0.9604, 0.1976],\n",
            "          [0.7055, 0.0608, 0.1127, 0.6244, 0.6033],\n",
            "          [0.2805, 0.8862, 0.3841, 0.5831, 0.4555]]]])\n"
          ]
        }
      ],
      "source": [
        "# Slice and print the first two elements along the first dimension.\n",
        "sliced_tensor = tensor[:2, :, :, :]\n",
        "print(sliced_tensor)"
      ]
    },
    {
      "cell_type": "code",
      "execution_count": 14,
      "metadata": {
        "colab": {
          "base_uri": "https://localhost:8080/"
        },
        "id": "NuIRc-TeXMeJ",
        "outputId": "ada3415b-dad3-416f-b4a3-49aa0f92f2bb"
      },
      "outputs": [
        {
          "output_type": "stream",
          "name": "stdout",
          "text": [
            "tensor(57.7419)\n"
          ]
        }
      ],
      "source": [
        "# Sum all elements in the tensor.\n",
        "print(tensor.sum().item())"
      ]
    },
    {
      "cell_type": "code",
      "execution_count": 15,
      "metadata": {
        "colab": {
          "base_uri": "https://localhost:8080/"
        },
        "id": "Jog7VnFrXMeJ",
        "outputId": "eb65fd4f-b124-425c-f39c-642035bd82dc"
      },
      "outputs": [
        {
          "output_type": "stream",
          "name": "stdout",
          "text": [
            "tensor([[[0.4489, 0.3143, 0.4452, 0.5309, 0.6221],\n",
            "         [0.4585, 0.5953, 0.7624, 0.1660, 0.7516],\n",
            "         [0.5348, 0.5683, 0.4149, 0.2743, 0.6598]],\n",
            "\n",
            "        [[0.3052, 0.2123, 0.5446, 0.3683, 0.7165],\n",
            "         [0.8552, 0.4324, 0.2746, 0.4163, 0.5973],\n",
            "         [0.4093, 0.4426, 0.3084, 0.6858, 0.3192]]])\n"
          ]
        }
      ],
      "source": [
        "# Compute the mean along the third dimension.\n",
        "print(tensor.mean(dim=2))"
      ]
    },
    {
      "cell_type": "markdown",
      "metadata": {
        "id": "i__Q55l2XMeJ"
      },
      "source": [
        "# 10. Combining Tensor Operations"
      ]
    },
    {
      "cell_type": "code",
      "execution_count": 4,
      "metadata": {
        "colab": {
          "base_uri": "https://localhost:8080/"
        },
        "id": "tXnpmINyXMeJ",
        "outputId": "3d26809d-5287-414c-d603-f1f29f1f1d77"
      },
      "outputs": [
        {
          "output_type": "stream",
          "name": "stdout",
          "text": [
            "tensor([[[0, 2, 8, 4],\n",
            "         [2, 1, 0, 0],\n",
            "         [8, 5, 2, 6]],\n",
            "\n",
            "        [[5, 2, 8, 9],\n",
            "         [9, 6, 6, 0],\n",
            "         [2, 0, 3, 1]]])\n",
            "tensor([[[5, 1, 4, 1],\n",
            "         [3, 9, 3, 2],\n",
            "         [4, 5, 3, 1]],\n",
            "\n",
            "        [[4, 8, 6, 5],\n",
            "         [9, 0, 0, 4],\n",
            "         [3, 9, 7, 9]]])\n"
          ]
        }
      ],
      "source": [
        "# Create two tensors tensor_a and tensor_b of shape (2, 3, 4) with random values.\n",
        "tensor_a = torch.randint(0,10, (2, 3, 4))\n",
        "tensor_b = torch.randint(0,10, (2, 3, 4))\n",
        "\n",
        "print(tensor_a)\n",
        "print(tensor_b)"
      ]
    },
    {
      "cell_type": "code",
      "execution_count": 5,
      "metadata": {
        "colab": {
          "base_uri": "https://localhost:8080/"
        },
        "id": "KfqLTDahXMeJ",
        "outputId": "3a41638b-51ff-46ae-bc76-2608424cac98"
      },
      "outputs": [
        {
          "output_type": "stream",
          "name": "stdout",
          "text": [
            "tensor([[[ 5,  3, 12,  5],\n",
            "         [ 5, 10,  3,  2],\n",
            "         [12, 10,  5,  7]],\n",
            "\n",
            "        [[ 9, 10, 14, 14],\n",
            "         [18,  6,  6,  4],\n",
            "         [ 5,  9, 10, 10]]])\n"
          ]
        }
      ],
      "source": [
        "# Add the two tensors.\n",
        "tensor_c = tensor_a + tensor_b\n",
        "print(tensor_c)"
      ]
    },
    {
      "cell_type": "code",
      "execution_count": 6,
      "metadata": {
        "colab": {
          "base_uri": "https://localhost:8080/"
        },
        "id": "usSJwIdWXMeJ",
        "outputId": "fb8162f6-062c-4281-9b0e-fb01d2595e30"
      },
      "outputs": [
        {
          "output_type": "execute_result",
          "data": {
            "text/plain": [
              "tensor([[[10,  6, 24, 10],\n",
              "         [10, 20,  6,  4],\n",
              "         [24, 20, 10, 14]],\n",
              "\n",
              "        [[18, 20, 28, 28],\n",
              "         [36, 12, 12,  8],\n",
              "         [10, 18, 20, 20]]])"
            ]
          },
          "metadata": {},
          "execution_count": 6
        }
      ],
      "source": [
        "# Multiply the resulting tensor by 2.\n",
        "tensor_c.mul(2)"
      ]
    },
    {
      "cell_type": "code",
      "execution_count": 7,
      "metadata": {
        "colab": {
          "base_uri": "https://localhost:8080/"
        },
        "id": "clFC2PR1XMeJ",
        "outputId": "2cf00817-c12d-4cf4-b3ca-d29c327e893d"
      },
      "outputs": [
        {
          "output_type": "execute_result",
          "data": {
            "text/plain": [
              "tensor([[ 5,  3, 12,  5,  5, 10],\n",
              "        [ 3,  2, 12, 10,  5,  7],\n",
              "        [ 9, 10, 14, 14, 18,  6],\n",
              "        [ 6,  4,  5,  9, 10, 10]])"
            ]
          },
          "metadata": {},
          "execution_count": 7
        }
      ],
      "source": [
        "# Reshape the tensor to (4, 6).\n",
        "tensor_c.reshape(4, 6)"
      ]
    },
    {
      "cell_type": "code",
      "execution_count": 8,
      "metadata": {
        "colab": {
          "base_uri": "https://localhost:8080/"
        },
        "id": "tXqNR7L_XMeJ",
        "outputId": "fa6d2ed8-a813-42da-8ebd-489011f23f6c"
      },
      "outputs": [
        {
          "output_type": "execute_result",
          "data": {
            "text/plain": [
              "tensor([[14, 13, 26, 19],\n",
              "        [23, 16,  9,  6],\n",
              "        [17, 19, 15, 17]])"
            ]
          },
          "metadata": {},
          "execution_count": 8
        }
      ],
      "source": [
        "# Compute the sum along the columns.\n",
        "tensor_c.sum(dim=0)"
      ]
    },
    {
      "cell_type": "markdown",
      "metadata": {
        "id": "HeF_RI32XMeJ"
      },
      "source": [
        "-------------------------------------------- END ----------------------------------------------"
      ]
    }
  ],
  "metadata": {
    "kernelspec": {
      "display_name": "Python 3",
      "name": "python3"
    },
    "language_info": {
      "codemirror_mode": {
        "name": "ipython",
        "version": 3
      },
      "file_extension": ".py",
      "mimetype": "text/x-python",
      "name": "python",
      "nbconvert_exporter": "python",
      "pygments_lexer": "ipython3",
      "version": "3.10.14"
    },
    "colab": {
      "provenance": []
    }
  },
  "nbformat": 4,
  "nbformat_minor": 0
}