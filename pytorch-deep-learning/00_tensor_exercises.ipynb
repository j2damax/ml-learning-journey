{
  "cells": [
    {
      "cell_type": "markdown",
      "metadata": {
        "id": "view-in-github",
        "colab_type": "text"
      },
      "source": [
        "<a href=\"https://colab.research.google.com/github/j2damax/ml-learning-journey/blob/main/pytorch-deep-learning/00_tensor_exercises.ipynb\" target=\"_parent\"><img src=\"https://colab.research.google.com/assets/colab-badge.svg\" alt=\"Open In Colab\"/></a>"
      ]
    },
    {
      "cell_type": "code",
      "execution_count": null,
      "metadata": {
        "id": "tK5ZDXPaXMd1"
      },
      "outputs": [],
      "source": [
        "# Jayampathy Balassuriya\n",
        "# 17-7-2025"
      ]
    },
    {
      "cell_type": "markdown",
      "metadata": {
        "id": "kmg17aRGXMd3"
      },
      "source": [
        "# Tensor Exercises"
      ]
    },
    {
      "cell_type": "markdown",
      "metadata": {
        "id": "C0OCXMjlXMd3"
      },
      "source": [
        "# 1. Tensor Creation"
      ]
    },
    {
      "cell_type": "code",
      "execution_count": null,
      "metadata": {
        "id": "WzpOkQG2XMd4"
      },
      "outputs": [],
      "source": [
        "# Create a tensor of shape (5, 3) filled with random values.\n"
      ]
    },
    {
      "cell_type": "code",
      "execution_count": null,
      "metadata": {
        "id": "w1Aq1LpWXMd4"
      },
      "outputs": [],
      "source": [
        "# Create a tensor of shape (2, 4) filled with ones."
      ]
    },
    {
      "cell_type": "code",
      "execution_count": null,
      "metadata": {
        "id": "YlWrjl6JXMd4"
      },
      "outputs": [],
      "source": [
        "# Create a tensor from a list [5, 10, 15, 20]."
      ]
    },
    {
      "cell_type": "code",
      "execution_count": null,
      "metadata": {
        "id": "iBp_3Z3IXMd4"
      },
      "outputs": [],
      "source": [
        "# Create a tensor to represent an image that has width of 8, height of 6, and 3 channels."
      ]
    },
    {
      "cell_type": "markdown",
      "metadata": {
        "id": "txql1KIGXMd4"
      },
      "source": [
        "# 2. Tensor Indexing and Slicing"
      ]
    },
    {
      "cell_type": "code",
      "execution_count": null,
      "metadata": {
        "id": "ORdlO-InXMd4"
      },
      "outputs": [],
      "source": [
        "# Create a tensor tensor of shape (3, 4) with values ranging from 10 to 22.\n"
      ]
    },
    {
      "cell_type": "code",
      "execution_count": null,
      "metadata": {
        "id": "toNqjgIVXMd5"
      },
      "outputs": [],
      "source": [
        "# Access the element at the second row, third column."
      ]
    },
    {
      "cell_type": "code",
      "execution_count": null,
      "metadata": {
        "id": "GOxkCn3TXMd5"
      },
      "outputs": [],
      "source": [
        "# Print the second row."
      ]
    },
    {
      "cell_type": "code",
      "execution_count": null,
      "metadata": {
        "id": "CO4dVee4XMd5"
      },
      "outputs": [],
      "source": [
        "# Print the first two columns."
      ]
    },
    {
      "cell_type": "markdown",
      "metadata": {
        "id": "ilhJkMSOXMd5"
      },
      "source": [
        "# 3. Tensor Arithmetic Operations"
      ]
    },
    {
      "cell_type": "code",
      "execution_count": null,
      "metadata": {
        "id": "CA0VKX1oXMd5"
      },
      "outputs": [],
      "source": [
        "# Create two tensors tensor_a and tensor_b of shape (3, 3) with random values."
      ]
    },
    {
      "cell_type": "code",
      "execution_count": null,
      "metadata": {
        "id": "etAyhJwjXMd5"
      },
      "outputs": [],
      "source": [
        "# Perform element-wise addition."
      ]
    },
    {
      "cell_type": "code",
      "execution_count": null,
      "metadata": {
        "id": "fLoQXzDcXMd5"
      },
      "outputs": [],
      "source": [
        "# Perform element-wise multiplication."
      ]
    },
    {
      "cell_type": "code",
      "execution_count": null,
      "metadata": {
        "id": "usuiC4zZXMd5"
      },
      "outputs": [],
      "source": [
        "# Subtract tensor_b from tensor_a."
      ]
    },
    {
      "cell_type": "markdown",
      "metadata": {
        "id": "tOZnP-1RXMd5"
      },
      "source": [
        "# 4. Tensor Aggregation Operations"
      ]
    },
    {
      "cell_type": "code",
      "execution_count": null,
      "metadata": {
        "id": "O2NfDI70XMd5"
      },
      "outputs": [],
      "source": [
        "# Create a tensor tensor of shape (3, 3) with values ranging from 1 to 9."
      ]
    },
    {
      "cell_type": "code",
      "execution_count": null,
      "metadata": {
        "id": "6QU1M4h_XMd5"
      },
      "outputs": [],
      "source": [
        "# Compute the sum of all elements."
      ]
    },
    {
      "cell_type": "code",
      "execution_count": null,
      "metadata": {
        "id": "YlBZDcATXMd6"
      },
      "outputs": [],
      "source": [
        "# Compute the mean of all elements."
      ]
    },
    {
      "cell_type": "code",
      "execution_count": null,
      "metadata": {
        "id": "pLiGcNnvXMd6"
      },
      "outputs": [],
      "source": [
        "# Find the maximum and minimum values."
      ]
    },
    {
      "cell_type": "code",
      "execution_count": null,
      "metadata": {
        "id": "vGgeFl9tXMd6"
      },
      "outputs": [],
      "source": [
        "# Compute the sum along the rows."
      ]
    },
    {
      "cell_type": "code",
      "execution_count": null,
      "metadata": {
        "id": "acvfPrX-XMd6"
      },
      "outputs": [],
      "source": [
        "# Compute the mean along the columns."
      ]
    },
    {
      "cell_type": "markdown",
      "metadata": {
        "id": "Tz3Eg9N2XMd6"
      },
      "source": [
        "# 5. Tensor Reshaping Operations"
      ]
    },
    {
      "cell_type": "code",
      "execution_count": null,
      "metadata": {
        "id": "RpMLWIUOXMd6"
      },
      "outputs": [],
      "source": [
        "# Create a tensor tensor of shape (2, 3, 4) with random values."
      ]
    },
    {
      "cell_type": "code",
      "execution_count": null,
      "metadata": {
        "id": "UFeh3SgTXMd6"
      },
      "outputs": [],
      "source": [
        "# Reshape the tensor to (4, 6)."
      ]
    },
    {
      "cell_type": "code",
      "execution_count": null,
      "metadata": {
        "id": "TOJd8rhfXMd6"
      },
      "outputs": [],
      "source": [
        "# Transpose the tensor (swap the first and second dimensions)."
      ]
    },
    {
      "cell_type": "code",
      "execution_count": null,
      "metadata": {
        "id": "qUIF60JJXMd6"
      },
      "outputs": [],
      "source": [
        "# Flatten the tensor to a 1D tensor."
      ]
    },
    {
      "cell_type": "markdown",
      "metadata": {
        "id": "P-XB0vQ-XMd6"
      },
      "source": [
        "# 6. Tensor Broadcasting"
      ]
    },
    {
      "cell_type": "code",
      "execution_count": null,
      "metadata": {
        "id": "hzf7eQa2XMd6"
      },
      "outputs": [],
      "source": [
        "# Create a tensor tensor_a of shape (2, 3) with values ranging from 1 to 6."
      ]
    },
    {
      "cell_type": "code",
      "execution_count": null,
      "metadata": {
        "id": "0WtxABAlXMd6"
      },
      "outputs": [],
      "source": [
        "# Create a tensor tensor_b of shape (1, 3) with values [1, 2, 3]."
      ]
    },
    {
      "cell_type": "code",
      "execution_count": null,
      "metadata": {
        "id": "d3A548coXMd6"
      },
      "outputs": [],
      "source": [
        "# Perform broadcasting addition."
      ]
    },
    {
      "cell_type": "code",
      "execution_count": null,
      "metadata": {
        "id": "D3OzEMw1XMd6"
      },
      "outputs": [],
      "source": [
        "# Create a tensor tensor_c of shape (3, 1) with values [1, 2, 3]."
      ]
    },
    {
      "cell_type": "code",
      "execution_count": null,
      "metadata": {
        "id": "p1YJKFW2XMd7"
      },
      "outputs": [],
      "source": [
        "# Perform broadcasting multiplication."
      ]
    },
    {
      "cell_type": "markdown",
      "metadata": {
        "id": "uHQPe2bPXMd7"
      },
      "source": [
        "# 7. Tensor Device Management"
      ]
    },
    {
      "cell_type": "code",
      "execution_count": null,
      "metadata": {
        "id": "i_arRGlGXMd7"
      },
      "outputs": [],
      "source": [
        "# Create a tensor of shape (3, 3) with random values and move it to GPU (if available)."
      ]
    },
    {
      "cell_type": "code",
      "execution_count": null,
      "metadata": {
        "id": "LqixfNT1XMd7"
      },
      "outputs": [],
      "source": [
        "# Verify if the tensor is on GPU.\n",
        "# Move the tensor back to CPU."
      ]
    },
    {
      "cell_type": "markdown",
      "metadata": {
        "id": "KS_oTVGWXMd7"
      },
      "source": [
        "# 8. Tensor Cloning and Detaching"
      ]
    },
    {
      "cell_type": "code",
      "execution_count": null,
      "metadata": {
        "id": "7CFixPyBXMeI"
      },
      "outputs": [],
      "source": [
        "# Create a tensor tensor of shape (3,) with values [1, 2, 3] and set requires_grad=True."
      ]
    },
    {
      "cell_type": "code",
      "execution_count": null,
      "metadata": {
        "id": "yIpCe-pRXMeI"
      },
      "outputs": [],
      "source": [
        "# Clone the tensor and print the cloned tensor."
      ]
    },
    {
      "cell_type": "code",
      "execution_count": null,
      "metadata": {
        "id": "enHrdfKSXMeI"
      },
      "outputs": [],
      "source": [
        "# Detach the tensor from the computation graph and print the detached tensor."
      ]
    },
    {
      "cell_type": "markdown",
      "metadata": {
        "id": "cze-KyDFXMeI"
      },
      "source": [
        "# 9. High Dimensional Tensors"
      ]
    },
    {
      "cell_type": "code",
      "execution_count": null,
      "metadata": {
        "id": "93d8Pd7UXMeJ"
      },
      "outputs": [],
      "source": [
        "# Create a 4D tensor tensor of shape (2, 3, 4, 5) with random values."
      ]
    },
    {
      "cell_type": "code",
      "execution_count": null,
      "metadata": {
        "id": "OJxv6fWQXMeJ"
      },
      "outputs": [],
      "source": [
        "# Print the shape of the tensor."
      ]
    },
    {
      "cell_type": "code",
      "execution_count": null,
      "metadata": {
        "id": "ylqjQhxkXMeJ"
      },
      "outputs": [],
      "source": [
        "# Access the element at position (1, 2, 3, 4)."
      ]
    },
    {
      "cell_type": "code",
      "execution_count": null,
      "metadata": {
        "id": "FikKzXJiXMeJ"
      },
      "outputs": [],
      "source": [
        "# Slice and print the first two elements along the first dimension."
      ]
    },
    {
      "cell_type": "code",
      "execution_count": null,
      "metadata": {
        "id": "NuIRc-TeXMeJ"
      },
      "outputs": [],
      "source": [
        "# Sum all elements in the tensor."
      ]
    },
    {
      "cell_type": "code",
      "execution_count": null,
      "metadata": {
        "id": "Jog7VnFrXMeJ"
      },
      "outputs": [],
      "source": [
        "# Compute the mean along the third dimension."
      ]
    },
    {
      "cell_type": "markdown",
      "metadata": {
        "id": "i__Q55l2XMeJ"
      },
      "source": [
        "# 10. Combining Tensor Operations"
      ]
    },
    {
      "cell_type": "code",
      "execution_count": null,
      "metadata": {
        "id": "tXnpmINyXMeJ"
      },
      "outputs": [],
      "source": [
        "# Create two tensors tensor_a and tensor_b of shape (2, 3, 4) with random values."
      ]
    },
    {
      "cell_type": "code",
      "execution_count": null,
      "metadata": {
        "id": "KfqLTDahXMeJ"
      },
      "outputs": [],
      "source": [
        "# Add the two tensors."
      ]
    },
    {
      "cell_type": "code",
      "execution_count": null,
      "metadata": {
        "id": "usSJwIdWXMeJ"
      },
      "outputs": [],
      "source": [
        "# Multiply the resulting tensor by 2."
      ]
    },
    {
      "cell_type": "code",
      "execution_count": null,
      "metadata": {
        "id": "clFC2PR1XMeJ"
      },
      "outputs": [],
      "source": [
        "# Reshape the tensor to (4, 6)."
      ]
    },
    {
      "cell_type": "code",
      "execution_count": null,
      "metadata": {
        "id": "tXqNR7L_XMeJ"
      },
      "outputs": [],
      "source": [
        "# Compute the sum along the columns."
      ]
    },
    {
      "cell_type": "markdown",
      "metadata": {
        "id": "HeF_RI32XMeJ"
      },
      "source": [
        "-------------------------------------------- END ----------------------------------------------"
      ]
    }
  ],
  "metadata": {
    "kernelspec": {
      "display_name": "pytorch_env",
      "language": "python",
      "name": "python3"
    },
    "language_info": {
      "codemirror_mode": {
        "name": "ipython",
        "version": 3
      },
      "file_extension": ".py",
      "mimetype": "text/x-python",
      "name": "python",
      "nbconvert_exporter": "python",
      "pygments_lexer": "ipython3",
      "version": "3.10.14"
    },
    "colab": {
      "provenance": [],
      "include_colab_link": true
    }
  },
  "nbformat": 4,
  "nbformat_minor": 0
}